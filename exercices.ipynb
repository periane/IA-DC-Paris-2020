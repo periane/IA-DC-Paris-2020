{
  "nbformat": 4,
  "nbformat_minor": 0,
  "metadata": {
    "colab": {
      "name": "exercice 1",
      "provenance": []
    },
    "kernelspec": {
      "name": "python3",
      "display_name": "Python 3"
    }
  },
  "cells": [
    {
      "cell_type": "markdown",
      "metadata": {
        "id": "HUgk9s2V4HZu",
        "colab_type": "text"
      },
      "source": [
        "**EXERCICE ALGORITHMIQUE**"
      ]
    },
    {
      "cell_type": "markdown",
      "metadata": {
        "id": "zHmkQ_DrBwNp",
        "colab_type": "text"
      },
      "source": [
        "**1.Les bases**"
      ]
    },
    {
      "cell_type": "markdown",
      "metadata": {
        "id": "kzUkRxV0Rd7t",
        "colab_type": "text"
      },
      "source": [
        "**Exercice 1 :** Simple échange"
      ]
    },
    {
      "cell_type": "code",
      "metadata": {
        "id": "zwoUSrpQqmc-",
        "colab_type": "code",
        "colab": {}
      },
      "source": [
        "def change(a,b) :\n",
        "   a , b = b , a;\n",
        "   print(a,b) ;\n"
      ],
      "execution_count": 4,
      "outputs": []
    },
    {
      "cell_type": "code",
      "metadata": {
        "id": "LklKjDNI47Jq",
        "colab_type": "code",
        "colab": {
          "base_uri": "https://localhost:8080/",
          "height": 34
        },
        "outputId": "1f7c7779-c25c-4b9c-de55-cef2ed95a384"
      },
      "source": [
        "change(2,3)"
      ],
      "execution_count": 7,
      "outputs": [
        {
          "output_type": "stream",
          "text": [
            "3 2\n"
          ],
          "name": "stdout"
        }
      ]
    },
    {
      "cell_type": "markdown",
      "metadata": {
        "id": "6gPhARvF5Fup",
        "colab_type": "text"
      },
      "source": [
        "**Exercice 2 :** Le carré"
      ]
    },
    {
      "cell_type": "code",
      "metadata": {
        "id": "hixS-lvQ5Qf8",
        "colab_type": "code",
        "colab": {
          "base_uri": "https://localhost:8080/",
          "height": 67
        },
        "outputId": "29590b60-b88f-47bc-b431-b487cd8f980f"
      },
      "source": [
        "def carre() :\n",
        "    print ('Veuillez entrer un nombre positif quelconque : ')\n",
        "    nb = input()\n",
        "    print(\"Le carré de \", nb, \" est \", int(nb) ** 2)\n",
        "\n",
        "carre()    "
      ],
      "execution_count": 49,
      "outputs": [
        {
          "output_type": "stream",
          "text": [
            "Veuillez entrer un nombre positif quelconque : \n",
            "5\n",
            "Le carré de  5  est  25\n"
          ],
          "name": "stdout"
        }
      ]
    },
    {
      "cell_type": "markdown",
      "metadata": {
        "id": "VwijgU5B9bG6",
        "colab_type": "text"
      },
      "source": [
        "**Excercice 3 :** La condition"
      ]
    },
    {
      "cell_type": "code",
      "metadata": {
        "id": "nyQ_k42_9jEj",
        "colab_type": "code",
        "colab": {
          "base_uri": "https://localhost:8080/",
          "height": 67
        },
        "outputId": "fa7d937e-516c-4f62-81bd-d5fba55a867f"
      },
      "source": [
        "def signe():\n",
        "    print (\"Tapez un nombre : \")\n",
        "    nombre = input()\n",
        "    if int(nombre) > 0:\n",
        "        print(\"ce nombre est positif \")\n",
        "    elif int(nombre) < 0:\n",
        "        print(\"ce nombre est negatif \")\n",
        "    else:\n",
        "        print(\"Zéro !\")\n",
        "\n",
        "signe()"
      ],
      "execution_count": 53,
      "outputs": [
        {
          "output_type": "stream",
          "text": [
            "Tapez un nombre : \n",
            "5\n",
            "ce nombre est positif \n"
          ],
          "name": "stdout"
        }
      ]
    },
    {
      "cell_type": "markdown",
      "metadata": {
        "id": "ixubyUi51IP1",
        "colab_type": "text"
      },
      "source": [
        "**Exercice 4 :**Le produit"
      ]
    },
    {
      "cell_type": "code",
      "metadata": {
        "id": "Rs1tbYMt1MSw",
        "colab_type": "code",
        "colab": {
          "base_uri": "https://localhost:8080/",
          "height": 50
        },
        "outputId": "e102e0bc-ee90-46ae-e050-27d45cd10370"
      },
      "source": [
        "def prod(a,b):\n",
        "   nombre = a * b;\n",
        "   if nombre > 0 :\n",
        "      print (\"le produit est positif !!\")\n",
        "   else :\n",
        "      print(\"Le produit est negatif !!\")\n",
        "\n",
        "prod(10,-1)\n",
        "prod(2,1)"
      ],
      "execution_count": 34,
      "outputs": [
        {
          "output_type": "stream",
          "text": [
            "Le produit est negatif !!\n",
            "le produit est positif !!\n"
          ],
          "name": "stdout"
        }
      ]
    },
    {
      "cell_type": "markdown",
      "metadata": {
        "id": "vgvBIOhs28Tp",
        "colab_type": "text"
      },
      "source": [
        "**Exercice 5 :** Calcul"
      ]
    },
    {
      "cell_type": "code",
      "metadata": {
        "id": "vleRvwr927JY",
        "colab_type": "code",
        "colab": {
          "base_uri": "https://localhost:8080/",
          "height": 168
        },
        "outputId": "82f4adb9-17ba-481f-8e86-5cbe833d7713"
      },
      "source": [
        "def suite(nb) :\n",
        "    i = 1;\n",
        "    while i < 10 :\n",
        "       nb = nb + 1 ; \n",
        "       print(nb)\n",
        "       i = i+1\n",
        "suite(1)"
      ],
      "execution_count": null,
      "outputs": [
        {
          "output_type": "stream",
          "text": [
            "2\n",
            "3\n",
            "4\n",
            "5\n",
            "6\n",
            "7\n",
            "8\n",
            "9\n",
            "10\n"
          ],
          "name": "stdout"
        }
      ]
    },
    {
      "cell_type": "markdown",
      "metadata": {
        "id": "iqQkOaB_-K0o",
        "colab_type": "text"
      },
      "source": [
        "**Exercice 6 :** L'addictivité"
      ]
    },
    {
      "cell_type": "code",
      "metadata": {
        "id": "tKlj76zQ-JKw",
        "colab_type": "code",
        "colab": {
          "base_uri": "https://localhost:8080/",
          "height": 101
        },
        "outputId": "298a0788-fb8c-4ad8-c509-58e025209a32"
      },
      "source": [
        "def somme(nb) :\n",
        "    i=0\n",
        "    somme = 0\n",
        "    while i < nb :\n",
        "         somme = somme + (nb-i)\n",
        "         i = i + 1\n",
        "         print(somme)\n",
        "     \n",
        "somme(5)"
      ],
      "execution_count": 60,
      "outputs": [
        {
          "output_type": "stream",
          "text": [
            "5\n",
            "9\n",
            "12\n",
            "14\n",
            "15\n"
          ],
          "name": "stdout"
        }
      ]
    },
    {
      "cell_type": "code",
      "metadata": {
        "id": "o-iVSHRuBZ8u",
        "colab_type": "code",
        "colab": {}
      },
      "source": [
        ""
      ],
      "execution_count": null,
      "outputs": []
    },
    {
      "cell_type": "markdown",
      "metadata": {
        "id": "vF1JX7H6BeSN",
        "colab_type": "text"
      },
      "source": [
        "**2.Les Tableaux**"
      ]
    },
    {
      "cell_type": "markdown",
      "metadata": {
        "id": "f4yA9InbBklW",
        "colab_type": "text"
      },
      "source": [
        "**Exercice 2.1 :** La somme"
      ]
    },
    {
      "cell_type": "code",
      "metadata": {
        "id": "v79JQ1rjXpck",
        "colab_type": "code",
        "colab": {
          "base_uri": "https://localhost:8080/",
          "height": 34
        },
        "outputId": "a60f1766-afa3-4ef3-a6bd-1a363ac92e86"
      },
      "source": [
        "tab1 = [1,2,3,4,23]\n",
        "somme = 0\n",
        "for i in tab1:\n",
        "         somme = somme + i\n",
        "print(\"la somme est\", somme)"
      ],
      "execution_count": 157,
      "outputs": [
        {
          "output_type": "stream",
          "text": [
            "la somme est 33\n"
          ],
          "name": "stdout"
        }
      ]
    },
    {
      "cell_type": "markdown",
      "metadata": {
        "id": "xMw8BoAlemN_",
        "colab_type": "text"
      },
      "source": [
        "**Exercice 2.2 :** somme retour"
      ]
    },
    {
      "cell_type": "code",
      "metadata": {
        "id": "9zKSgfnqpTXw",
        "colab_type": "code",
        "colab": {
          "base_uri": "https://localhost:8080/",
          "height": 34
        },
        "outputId": "cbb053af-56b2-4c38-d8ea-109dc6e9ff84"
      },
      "source": [
        "tab2 = [5, 10, 8, 4, 7]\n",
        "\n",
        "def sommeTab(tab1, tab2):\n",
        "    i = 0\n",
        "    for elt in tab2:\n",
        "        tab1[i] += elt\n",
        "        i += 1\n",
        "    return tab1\n",
        "    \n",
        "tab = sommeTab(tab1, tab2)\n",
        "tab"
      ],
      "execution_count": 158,
      "outputs": [
        {
          "output_type": "execute_result",
          "data": {
            "text/plain": [
              "[6, 12, 11, 8, 30]"
            ]
          },
          "metadata": {
            "tags": []
          },
          "execution_count": 158
        }
      ]
    },
    {
      "cell_type": "markdown",
      "metadata": {
        "id": "1kJiaM0sqti1",
        "colab_type": "text"
      },
      "source": [
        "**Exercice 2.3 :** Compte Bancaire"
      ]
    },
    {
      "cell_type": "code",
      "metadata": {
        "id": "CSfzN0nGqsy3",
        "colab_type": "code",
        "colab": {}
      },
      "source": [
        "class CompteBancaire :\n",
        "        \n",
        "    def __init__(self, nom = \"Dupont\", solde = 1000):\n",
        "        self.nom = nom\n",
        "        self.solde = solde\n",
        "        \n",
        "    def depot(self, somme):\n",
        "        self.solde += somme\n",
        "        \n",
        "    def retrait(self, somme):\n",
        "        self.solde -= somme\n",
        "        \n",
        "    def affiche(self):\n",
        "        print(\"Le solde du compte bancaire de \", self.nom, \" est de \", self.solde, \" euros.\")\n",
        "\n",
        "      "
      ],
      "execution_count": 159,
      "outputs": []
    },
    {
      "cell_type": "code",
      "metadata": {
        "id": "BTUGsYoVrRP_",
        "colab_type": "code",
        "colab": {
          "base_uri": "https://localhost:8080/",
          "height": 34
        },
        "outputId": "bab0444a-03f5-426c-9d10-f316b185e202"
      },
      "source": [
        "compte1 = CompteBancaire('Duchmol', 800)\n",
        "compte1.depot(350)\n",
        "compte1.retrait(200)\n",
        "compte1.affiche()"
      ],
      "execution_count": 160,
      "outputs": [
        {
          "output_type": "stream",
          "text": [
            "Le solde du compte bancaire de  Duchmol  est de  950  euros.\n"
          ],
          "name": "stdout"
        }
      ]
    }
  ]
}