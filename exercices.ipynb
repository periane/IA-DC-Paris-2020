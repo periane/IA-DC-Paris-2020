{
 "cells": [
  {
   "cell_type": "markdown",
   "metadata": {
    "colab_type": "text",
    "id": "HUgk9s2V4HZu"
   },
   "source": [
    "**EXERCICE ALGORITHMIQUE**"
   ]
  },
  {
   "cell_type": "markdown",
   "metadata": {
    "colab_type": "text",
    "id": "zHmkQ_DrBwNp"
   },
   "source": [
    "**1.Les bases**"
   ]
  },
  {
   "cell_type": "markdown",
   "metadata": {
    "colab_type": "text",
    "id": "kzUkRxV0Rd7t"
   },
   "source": [
    "**Exercice 1 :** Simple échange"
   ]
  },
  {
   "cell_type": "code",
   "execution_count": 4,
   "metadata": {
    "colab": {},
    "colab_type": "code",
    "id": "zwoUSrpQqmc-"
   },
   "outputs": [],
   "source": [
    "def change(a,b) :\n",
    "   a , b = b , a;\n",
    "   print(a,b) ;\n"
   ]
  },
  {
   "cell_type": "code",
   "execution_count": 7,
   "metadata": {
    "colab": {
     "base_uri": "https://localhost:8080/",
     "height": 34
    },
    "colab_type": "code",
    "id": "LklKjDNI47Jq",
    "outputId": "1f7c7779-c25c-4b9c-de55-cef2ed95a384"
   },
   "outputs": [
    {
     "name": "stdout",
     "output_type": "stream",
     "text": [
      "3 2\n"
     ]
    }
   ],
   "source": [
    "change(2,3)"
   ]
  },
  {
   "cell_type": "markdown",
   "metadata": {
    "colab_type": "text",
    "id": "6gPhARvF5Fup"
   },
   "source": [
    "**Exercice 2 :** Le carré"
   ]
  },
  {
   "cell_type": "code",
   "execution_count": 49,
   "metadata": {
    "colab": {
     "base_uri": "https://localhost:8080/",
     "height": 67
    },
    "colab_type": "code",
    "id": "hixS-lvQ5Qf8",
    "outputId": "29590b60-b88f-47bc-b431-b487cd8f980f"
   },
   "outputs": [
    {
     "name": "stdout",
     "output_type": "stream",
     "text": [
      "Veuillez entrer un nombre positif quelconque : \n",
      "5\n",
      "Le carré de  5  est  25\n"
     ]
    }
   ],
   "source": [
    "def carre() :\n",
    "    print ('Veuillez entrer un nombre positif quelconque : ')\n",
    "    nb = input()\n",
    "    print(\"Le carré de \", nb, \" est \", int(nb) ** 2)\n",
    "\n",
    "carre()    "
   ]
  },
  {
   "cell_type": "markdown",
   "metadata": {
    "colab_type": "text",
    "id": "VwijgU5B9bG6"
   },
   "source": [
    "**Excercice 3 :** La condition"
   ]
  },
  {
   "cell_type": "code",
   "execution_count": 53,
   "metadata": {
    "colab": {
     "base_uri": "https://localhost:8080/",
     "height": 67
    },
    "colab_type": "code",
    "id": "nyQ_k42_9jEj",
    "outputId": "fa7d937e-516c-4f62-81bd-d5fba55a867f"
   },
   "outputs": [
    {
     "name": "stdout",
     "output_type": "stream",
     "text": [
      "Tapez un nombre : \n",
      "5\n",
      "ce nombre est positif \n"
     ]
    }
   ],
   "source": [
    "def signe():\n",
    "    print (\"Tapez un nombre : \")\n",
    "    nombre = input()\n",
    "    if int(nombre) > 0:\n",
    "        print(\"ce nombre est positif \")\n",
    "    elif int(nombre) < 0:\n",
    "        print(\"ce nombre est negatif \")\n",
    "    else:\n",
    "        print(\"Zéro !\")\n",
    "\n",
    "signe()"
   ]
  },
  {
   "cell_type": "markdown",
   "metadata": {
    "colab_type": "text",
    "id": "ixubyUi51IP1"
   },
   "source": [
    "**Exercice 4 :**Le produit"
   ]
  },
  {
   "cell_type": "code",
   "execution_count": 34,
   "metadata": {
    "colab": {
     "base_uri": "https://localhost:8080/",
     "height": 50
    },
    "colab_type": "code",
    "id": "Rs1tbYMt1MSw",
    "outputId": "e102e0bc-ee90-46ae-e050-27d45cd10370"
   },
   "outputs": [
    {
     "name": "stdout",
     "output_type": "stream",
     "text": [
      "Le produit est negatif !!\n",
      "le produit est positif !!\n"
     ]
    }
   ],
   "source": [
    "def prod(a,b):\n",
    "   nombre = a * b;\n",
    "   if nombre > 0 :\n",
    "      print (\"le produit est positif !!\")\n",
    "   else :\n",
    "      print(\"Le produit est negatif !!\")\n",
    "\n",
    "prod(10,-1)\n",
    "prod(2,1)"
   ]
  },
  {
   "cell_type": "markdown",
   "metadata": {
    "colab_type": "text",
    "id": "vgvBIOhs28Tp"
   },
   "source": [
    "**Exercice 5 :** Calcul"
   ]
  },
  {
   "cell_type": "code",
   "execution_count": null,
   "metadata": {
    "colab": {
     "base_uri": "https://localhost:8080/",
     "height": 168
    },
    "colab_type": "code",
    "id": "vleRvwr927JY",
    "outputId": "82f4adb9-17ba-481f-8e86-5cbe833d7713"
   },
   "outputs": [
    {
     "name": "stdout",
     "output_type": "stream",
     "text": [
      "2\n",
      "3\n",
      "4\n",
      "5\n",
      "6\n",
      "7\n",
      "8\n",
      "9\n",
      "10\n"
     ]
    }
   ],
   "source": [
    "def suite(nb) :\n",
    "    i = 1;\n",
    "    while i < 10 :\n",
    "       nb = nb + 1 ; \n",
    "       print(nb)\n",
    "       i = i+1\n",
    "suite(1)"
   ]
  },
  {
   "cell_type": "markdown",
   "metadata": {
    "colab_type": "text",
    "id": "iqQkOaB_-K0o"
   },
   "source": [
    "**Exercice 6 :** L'addictivité"
   ]
  },
  {
   "cell_type": "code",
   "execution_count": 60,
   "metadata": {
    "colab": {
     "base_uri": "https://localhost:8080/",
     "height": 101
    },
    "colab_type": "code",
    "id": "tKlj76zQ-JKw",
    "outputId": "298a0788-fb8c-4ad8-c509-58e025209a32"
   },
   "outputs": [
    {
     "name": "stdout",
     "output_type": "stream",
     "text": [
      "5\n",
      "9\n",
      "12\n",
      "14\n",
      "15\n"
     ]
    }
   ],
   "source": [
    "def somme(nb) :\n",
    "    i=0\n",
    "    somme = 0\n",
    "    while i < nb :\n",
    "         somme = somme + (nb-i)\n",
    "         i = i + 1\n",
    "         print(somme)\n",
    "     \n",
    "somme(5)"
   ]
  },
  {
   "cell_type": "markdown",
   "metadata": {
    "colab_type": "text",
    "id": "vF1JX7H6BeSN"
   },
   "source": [
    "**2.Les Tableaux**"
   ]
  },
  {
   "cell_type": "markdown",
   "metadata": {
    "colab_type": "text",
    "id": "f4yA9InbBklW"
   },
   "source": [
    "**Exercice 2.1 :** La somme"
   ]
  },
  {
   "cell_type": "code",
   "execution_count": 1,
   "metadata": {
    "colab": {
     "base_uri": "https://localhost:8080/",
     "height": 34
    },
    "colab_type": "code",
    "id": "v79JQ1rjXpck",
    "outputId": "a60f1766-afa3-4ef3-a6bd-1a363ac92e86"
   },
   "outputs": [
    {
     "name": "stdout",
     "output_type": "stream",
     "text": [
      "la somme est 33\n"
     ]
    }
   ],
   "source": [
    "tab1 = [1,2,3,4,23]\n",
    "somme = 0\n",
    "for i in tab1:\n",
    "         somme = somme + i\n",
    "print(\"la somme est\", somme)"
   ]
  },
  {
   "cell_type": "markdown",
   "metadata": {
    "colab_type": "text",
    "id": "xMw8BoAlemN_"
   },
   "source": [
    "**Exercice 2.2 :** somme retour"
   ]
  },
  {
   "cell_type": "code",
   "execution_count": 2,
   "metadata": {},
   "outputs": [
    {
     "data": {
      "text/plain": [
       "[6, 8, 10, 13, 33]"
      ]
     },
     "execution_count": 2,
     "metadata": {},
     "output_type": "execute_result"
    }
   ],
   "source": [
    "tab2 = [5, 6, 7, 9, 10]\n",
    "\n",
    "def sommeTab(tab1, tab2):\n",
    "    i = 0\n",
    "    for nb in tab2:\n",
    "        tab1[i] += nb\n",
    "        i += 1\n",
    "    return tab1\n",
    "    \n",
    "tab = sommeTab(tab1, tab2)\n",
    "tab"
   ]
  },
  {
   "cell_type": "markdown",
   "metadata": {},
   "source": [
    "**Exercice 2.2**: FacProd"
   ]
  },
  {
   "cell_type": "code",
   "execution_count": 3,
   "metadata": {},
   "outputs": [
    {
     "name": "stdout",
     "output_type": "stream",
     "text": [
      "[30, 48, 70, 117, 330]\n"
     ]
    },
    {
     "ename": "TypeError",
     "evalue": "'int' object is not callable",
     "output_type": "error",
     "traceback": [
      "\u001b[0;31m---------------------------------------------------------------------------\u001b[0m",
      "\u001b[0;31mTypeError\u001b[0m                                 Traceback (most recent call last)",
      "\u001b[0;32m<ipython-input-3-560f0567b076>\u001b[0m in \u001b[0;36m<module>\u001b[0;34m()\u001b[0m\n\u001b[1;32m     11\u001b[0m         \u001b[0mprint\u001b[0m\u001b[0;34m(\u001b[0m\u001b[0;34m\"Ces 2 tableaux ne sont pas de la même taille !\"\u001b[0m\u001b[0;34m)\u001b[0m\u001b[0;34m\u001b[0m\u001b[0;34m\u001b[0m\u001b[0m\n\u001b[1;32m     12\u001b[0m \u001b[0;34m\u001b[0m\u001b[0m\n\u001b[0;32m---> 13\u001b[0;31m \u001b[0mfacprod\u001b[0m\u001b[0;34m(\u001b[0m\u001b[0mtab1\u001b[0m\u001b[0;34m,\u001b[0m \u001b[0mtab2\u001b[0m\u001b[0;34m)\u001b[0m\u001b[0;34m\u001b[0m\u001b[0;34m\u001b[0m\u001b[0m\n\u001b[0m",
      "\u001b[0;32m<ipython-input-3-560f0567b076>\u001b[0m in \u001b[0;36mfacprod\u001b[0;34m(tab1, tab2)\u001b[0m\n\u001b[1;32m      7\u001b[0m             \u001b[0mi\u001b[0m \u001b[0;34m+=\u001b[0m \u001b[0;36m1\u001b[0m\u001b[0;34m\u001b[0m\u001b[0;34m\u001b[0m\u001b[0m\n\u001b[1;32m      8\u001b[0m         \u001b[0mprint\u001b[0m\u001b[0;34m(\u001b[0m\u001b[0mtab\u001b[0m\u001b[0;34m)\u001b[0m\u001b[0;34m\u001b[0m\u001b[0;34m\u001b[0m\u001b[0m\n\u001b[0;32m----> 9\u001b[0;31m         \u001b[0mprint\u001b[0m\u001b[0;34m(\u001b[0m\u001b[0;34m\"Le FacProduct de ces 2 tableaux est égal à\"\u001b[0m\u001b[0;34m,\u001b[0m \u001b[0msomme\u001b[0m\u001b[0;34m(\u001b[0m\u001b[0mtab\u001b[0m\u001b[0;34m)\u001b[0m\u001b[0;34m)\u001b[0m\u001b[0;34m\u001b[0m\u001b[0;34m\u001b[0m\u001b[0m\n\u001b[0m\u001b[1;32m     10\u001b[0m     \u001b[0;32melse\u001b[0m\u001b[0;34m:\u001b[0m\u001b[0;34m\u001b[0m\u001b[0;34m\u001b[0m\u001b[0m\n\u001b[1;32m     11\u001b[0m         \u001b[0mprint\u001b[0m\u001b[0;34m(\u001b[0m\u001b[0;34m\"Ces 2 tableaux ne sont pas de la même taille !\"\u001b[0m\u001b[0;34m)\u001b[0m\u001b[0;34m\u001b[0m\u001b[0;34m\u001b[0m\u001b[0m\n",
      "\u001b[0;31mTypeError\u001b[0m: 'int' object is not callable"
     ]
    }
   ],
   "source": [
    "def facprod(tab1, tab2):\n",
    "    if len(tab1) == len(tab2):\n",
    "        i = 0\n",
    "        tab = [nb for nb in tab2]\n",
    "        for elt in tab1:\n",
    "            tab[i] *= elt\n",
    "            i += 1\n",
    "        print(tab)\n",
    "        print(\"Le FacProduct de ces 2 tableaux est égal à\", somme(tab))\n",
    "    else:\n",
    "        print(\"Ces 2 tableaux ne sont pas de la même taille !\")\n",
    "\n",
    "facprod(tab1, tab2)"
   ]
  },
  {
   "cell_type": "markdown",
   "metadata": {},
   "source": [
    "### Exercice 2.4 : Le plus grand"
   ]
  },
  {
   "cell_type": "code",
   "execution_count": 22,
   "metadata": {},
   "outputs": [
    {
     "name": "stdout",
     "output_type": "stream",
     "text": [
      "Entrez la taille maximale: 3\n",
      "Entrez un nombre :1\n",
      "Entrez un nombre :2\n",
      "Entrez un nombre :3\n",
      "Le plus grand nombre est : 3 et sa position est : 2\n"
     ]
    }
   ],
   "source": [
    "def nbMax():\n",
    "    Total = int(input(\"Entrez la taille maximale: \"))\n",
    "    Posmaxi = 0\n",
    "    i = 0\n",
    "    maxi = 0\n",
    "    \n",
    "    while i < Total:\n",
    "        nb = int(input(\"Entrez un nombre :\"))\n",
    "        if maxi < nb:\n",
    "            maxi = nb\n",
    "            Posmaxi = i\n",
    "        i += 1\n",
    "    print(\"Le plus grand nombre est :\", maxi, \"et sa position est :\", Posmaxi )\n",
    "    \n",
    "tabMax()\n"
   ]
  },
  {
   "cell_type": "markdown",
   "metadata": {
    "colab_type": "text",
    "id": "1kJiaM0sqti1"
   },
   "source": [
    "** Les objets en python : ** Compte Bancaire"
   ]
  },
  {
   "cell_type": "code",
   "execution_count": 159,
   "metadata": {
    "colab": {},
    "colab_type": "code",
    "id": "CSfzN0nGqsy3"
   },
   "outputs": [],
   "source": [
    "class CompteBancaire :\n",
    "        \n",
    "    def __init__(self, nom = \"Dupont\", solde = 1000):\n",
    "        self.nom = nom\n",
    "        self.solde = solde\n",
    "        \n",
    "    def depot(self, somme):\n",
    "        self.solde += somme\n",
    "        \n",
    "    def retrait(self, somme):\n",
    "        self.solde -= somme\n",
    "        \n",
    "    def affiche(self):\n",
    "        print(\"Le solde du compte bancaire de \", self.nom, \" est de \", self.solde, \" euros.\")\n",
    "\n",
    "      "
   ]
  },
  {
   "cell_type": "code",
   "execution_count": 160,
   "metadata": {
    "colab": {
     "base_uri": "https://localhost:8080/",
     "height": 34
    },
    "colab_type": "code",
    "id": "BTUGsYoVrRP_",
    "outputId": "bab0444a-03f5-426c-9d10-f316b185e202"
   },
   "outputs": [
    {
     "name": "stdout",
     "output_type": "stream",
     "text": [
      "Le solde du compte bancaire de  Duchmol  est de  950  euros.\n"
     ]
    }
   ],
   "source": [
    "compte1 = CompteBancaire('Duchmol', 800)\n",
    "compte1.depot(350)\n",
    "compte1.retrait(200)\n",
    "compte1.affiche()"
   ]
  }
 ],
 "metadata": {
  "colab": {
   "name": "exercice 1",
   "provenance": []
  },
  "kernelspec": {
   "display_name": "Python 3",
   "language": "python",
   "name": "python3"
  },
  "language_info": {
   "codemirror_mode": {
    "name": "ipython",
    "version": 3
   },
   "file_extension": ".py",
   "mimetype": "text/x-python",
   "name": "python",
   "nbconvert_exporter": "python",
   "pygments_lexer": "ipython3",
   "version": "3.6.9"
  }
 },
 "nbformat": 4,
 "nbformat_minor": 1
}
