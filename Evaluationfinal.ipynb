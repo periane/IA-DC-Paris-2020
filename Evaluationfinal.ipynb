{
 "cells": [
  {
   "cell_type": "markdown",
   "metadata": {},
   "source": [
    "#                                                   PROJET ML"
   ]
  },
  {
   "cell_type": "code",
   "execution_count": 3,
   "metadata": {},
   "outputs": [],
   "source": [
    "#importation des librairies\n",
    "import numpy as np\n",
    "import matplotlib.pyplot as plt \n",
    "import pandas as pd  \n",
    "import seaborn as sns \n",
    "%matplotlib inline"
   ]
  },
  {
   "cell_type": "code",
   "execution_count": 4,
   "metadata": {},
   "outputs": [],
   "source": [
    "#chargement du dataset : prédiction du prix des maisons en fonction des chambres\n",
    "dataset = pd.read_csv('../ExerciceFinal/Melbourne_housing_FULL.csv', sep=',')"
   ]
  },
  {
   "cell_type": "code",
   "execution_count": 5,
   "metadata": {},
   "outputs": [
    {
     "name": "stdout",
     "output_type": "stream",
     "text": [
      "<class 'pandas.core.frame.DataFrame'>\n",
      "RangeIndex: 34857 entries, 0 to 34856\n",
      "Data columns (total 21 columns):\n",
      " #   Column         Non-Null Count  Dtype  \n",
      "---  ------         --------------  -----  \n",
      " 0   Suburb         34857 non-null  object \n",
      " 1   Address        34857 non-null  object \n",
      " 2   Rooms          34857 non-null  int64  \n",
      " 3   Type           34857 non-null  object \n",
      " 4   Price          27247 non-null  float64\n",
      " 5   Method         34857 non-null  object \n",
      " 6   SellerG        34857 non-null  object \n",
      " 7   Date           34857 non-null  object \n",
      " 8   Distance       34856 non-null  float64\n",
      " 9   Postcode       34856 non-null  float64\n",
      " 10  Bedroom2       26640 non-null  float64\n",
      " 11  Bathroom       26631 non-null  float64\n",
      " 12  Car            26129 non-null  float64\n",
      " 13  Landsize       23047 non-null  float64\n",
      " 14  BuildingArea   13742 non-null  float64\n",
      " 15  YearBuilt      15551 non-null  float64\n",
      " 16  CouncilArea    34854 non-null  object \n",
      " 17  Lattitude      26881 non-null  float64\n",
      " 18  Longtitude     26881 non-null  float64\n",
      " 19  Regionname     34854 non-null  object \n",
      " 20  Propertycount  34854 non-null  float64\n",
      "dtypes: float64(12), int64(1), object(8)\n",
      "memory usage: 5.6+ MB\n"
     ]
    }
   ],
   "source": [
    "#affiché les infos des données\n",
    "dataset.info()"
   ]
  },
  {
   "cell_type": "markdown",
   "metadata": {},
   "source": [
    "Nous constatons qu'il ya un problème avec les types de données. Par exemple, il n'y a aucune raison pour que le PostCode soit considéré comme un flottant alors qu'il s'agit clairement d'une catégorie. Je prendrai le temps de changer tous les types problématiques.\n",
    "changer la salle de bain et la voiture en série entière\n",
    "Le code postal est une variable catégorielle et non numérique\n",
    "Yearbuilt doit être un entier\n",
    "Propertycount est une catégorie"
   ]
  },
  {
   "cell_type": "code",
   "execution_count": 6,
   "metadata": {},
   "outputs": [
    {
     "data": {
      "text/html": [
       "<div>\n",
       "<style scoped>\n",
       "    .dataframe tbody tr th:only-of-type {\n",
       "        vertical-align: middle;\n",
       "    }\n",
       "\n",
       "    .dataframe tbody tr th {\n",
       "        vertical-align: top;\n",
       "    }\n",
       "\n",
       "    .dataframe thead th {\n",
       "        text-align: right;\n",
       "    }\n",
       "</style>\n",
       "<table border=\"1\" class=\"dataframe\">\n",
       "  <thead>\n",
       "    <tr style=\"text-align: right;\">\n",
       "      <th></th>\n",
       "      <th>Suburb</th>\n",
       "      <th>Address</th>\n",
       "      <th>Rooms</th>\n",
       "      <th>Type</th>\n",
       "      <th>Price</th>\n",
       "      <th>Method</th>\n",
       "      <th>SellerG</th>\n",
       "      <th>Date</th>\n",
       "      <th>Distance</th>\n",
       "      <th>Postcode</th>\n",
       "      <th>...</th>\n",
       "      <th>Bathroom</th>\n",
       "      <th>Car</th>\n",
       "      <th>Landsize</th>\n",
       "      <th>BuildingArea</th>\n",
       "      <th>YearBuilt</th>\n",
       "      <th>CouncilArea</th>\n",
       "      <th>Lattitude</th>\n",
       "      <th>Longtitude</th>\n",
       "      <th>Regionname</th>\n",
       "      <th>Propertycount</th>\n",
       "    </tr>\n",
       "  </thead>\n",
       "  <tbody>\n",
       "    <tr>\n",
       "      <th>0</th>\n",
       "      <td>Abbotsford</td>\n",
       "      <td>68 Studley St</td>\n",
       "      <td>2</td>\n",
       "      <td>h</td>\n",
       "      <td>NaN</td>\n",
       "      <td>SS</td>\n",
       "      <td>Jellis</td>\n",
       "      <td>3/09/2016</td>\n",
       "      <td>2.5</td>\n",
       "      <td>3067.0</td>\n",
       "      <td>...</td>\n",
       "      <td>1.0</td>\n",
       "      <td>1.0</td>\n",
       "      <td>126.0</td>\n",
       "      <td>NaN</td>\n",
       "      <td>NaN</td>\n",
       "      <td>Yarra City Council</td>\n",
       "      <td>-37.8014</td>\n",
       "      <td>144.9958</td>\n",
       "      <td>Northern Metropolitan</td>\n",
       "      <td>4019.0</td>\n",
       "    </tr>\n",
       "    <tr>\n",
       "      <th>1</th>\n",
       "      <td>Abbotsford</td>\n",
       "      <td>85 Turner St</td>\n",
       "      <td>2</td>\n",
       "      <td>h</td>\n",
       "      <td>1480000.0</td>\n",
       "      <td>S</td>\n",
       "      <td>Biggin</td>\n",
       "      <td>3/12/2016</td>\n",
       "      <td>2.5</td>\n",
       "      <td>3067.0</td>\n",
       "      <td>...</td>\n",
       "      <td>1.0</td>\n",
       "      <td>1.0</td>\n",
       "      <td>202.0</td>\n",
       "      <td>NaN</td>\n",
       "      <td>NaN</td>\n",
       "      <td>Yarra City Council</td>\n",
       "      <td>-37.7996</td>\n",
       "      <td>144.9984</td>\n",
       "      <td>Northern Metropolitan</td>\n",
       "      <td>4019.0</td>\n",
       "    </tr>\n",
       "    <tr>\n",
       "      <th>2</th>\n",
       "      <td>Abbotsford</td>\n",
       "      <td>25 Bloomburg St</td>\n",
       "      <td>2</td>\n",
       "      <td>h</td>\n",
       "      <td>1035000.0</td>\n",
       "      <td>S</td>\n",
       "      <td>Biggin</td>\n",
       "      <td>4/02/2016</td>\n",
       "      <td>2.5</td>\n",
       "      <td>3067.0</td>\n",
       "      <td>...</td>\n",
       "      <td>1.0</td>\n",
       "      <td>0.0</td>\n",
       "      <td>156.0</td>\n",
       "      <td>79.0</td>\n",
       "      <td>1900.0</td>\n",
       "      <td>Yarra City Council</td>\n",
       "      <td>-37.8079</td>\n",
       "      <td>144.9934</td>\n",
       "      <td>Northern Metropolitan</td>\n",
       "      <td>4019.0</td>\n",
       "    </tr>\n",
       "    <tr>\n",
       "      <th>3</th>\n",
       "      <td>Abbotsford</td>\n",
       "      <td>18/659 Victoria St</td>\n",
       "      <td>3</td>\n",
       "      <td>u</td>\n",
       "      <td>NaN</td>\n",
       "      <td>VB</td>\n",
       "      <td>Rounds</td>\n",
       "      <td>4/02/2016</td>\n",
       "      <td>2.5</td>\n",
       "      <td>3067.0</td>\n",
       "      <td>...</td>\n",
       "      <td>2.0</td>\n",
       "      <td>1.0</td>\n",
       "      <td>0.0</td>\n",
       "      <td>NaN</td>\n",
       "      <td>NaN</td>\n",
       "      <td>Yarra City Council</td>\n",
       "      <td>-37.8114</td>\n",
       "      <td>145.0116</td>\n",
       "      <td>Northern Metropolitan</td>\n",
       "      <td>4019.0</td>\n",
       "    </tr>\n",
       "    <tr>\n",
       "      <th>4</th>\n",
       "      <td>Abbotsford</td>\n",
       "      <td>5 Charles St</td>\n",
       "      <td>3</td>\n",
       "      <td>h</td>\n",
       "      <td>1465000.0</td>\n",
       "      <td>SP</td>\n",
       "      <td>Biggin</td>\n",
       "      <td>4/03/2017</td>\n",
       "      <td>2.5</td>\n",
       "      <td>3067.0</td>\n",
       "      <td>...</td>\n",
       "      <td>2.0</td>\n",
       "      <td>0.0</td>\n",
       "      <td>134.0</td>\n",
       "      <td>150.0</td>\n",
       "      <td>1900.0</td>\n",
       "      <td>Yarra City Council</td>\n",
       "      <td>-37.8093</td>\n",
       "      <td>144.9944</td>\n",
       "      <td>Northern Metropolitan</td>\n",
       "      <td>4019.0</td>\n",
       "    </tr>\n",
       "  </tbody>\n",
       "</table>\n",
       "<p>5 rows × 21 columns</p>\n",
       "</div>"
      ],
      "text/plain": [
       "       Suburb             Address  Rooms Type      Price Method SellerG  \\\n",
       "0  Abbotsford       68 Studley St      2    h        NaN     SS  Jellis   \n",
       "1  Abbotsford        85 Turner St      2    h  1480000.0      S  Biggin   \n",
       "2  Abbotsford     25 Bloomburg St      2    h  1035000.0      S  Biggin   \n",
       "3  Abbotsford  18/659 Victoria St      3    u        NaN     VB  Rounds   \n",
       "4  Abbotsford        5 Charles St      3    h  1465000.0     SP  Biggin   \n",
       "\n",
       "        Date  Distance  Postcode  ...  Bathroom  Car  Landsize  BuildingArea  \\\n",
       "0  3/09/2016       2.5    3067.0  ...       1.0  1.0     126.0           NaN   \n",
       "1  3/12/2016       2.5    3067.0  ...       1.0  1.0     202.0           NaN   \n",
       "2  4/02/2016       2.5    3067.0  ...       1.0  0.0     156.0          79.0   \n",
       "3  4/02/2016       2.5    3067.0  ...       2.0  1.0       0.0           NaN   \n",
       "4  4/03/2017       2.5    3067.0  ...       2.0  0.0     134.0         150.0   \n",
       "\n",
       "   YearBuilt         CouncilArea Lattitude  Longtitude             Regionname  \\\n",
       "0        NaN  Yarra City Council  -37.8014    144.9958  Northern Metropolitan   \n",
       "1        NaN  Yarra City Council  -37.7996    144.9984  Northern Metropolitan   \n",
       "2     1900.0  Yarra City Council  -37.8079    144.9934  Northern Metropolitan   \n",
       "3        NaN  Yarra City Council  -37.8114    145.0116  Northern Metropolitan   \n",
       "4     1900.0  Yarra City Council  -37.8093    144.9944  Northern Metropolitan   \n",
       "\n",
       "  Propertycount  \n",
       "0        4019.0  \n",
       "1        4019.0  \n",
       "2        4019.0  \n",
       "3        4019.0  \n",
       "4        4019.0  \n",
       "\n",
       "[5 rows x 21 columns]"
      ]
     },
     "execution_count": 6,
     "metadata": {},
     "output_type": "execute_result"
    }
   ],
   "source": [
    "#afficher les premieres lignes du dataset\n",
    "#On constate que les columns Price, BuildingArea, YearBuilt cotiennent beaucoup de valeur nul\n",
    "dataset.head()"
   ]
  },
  {
   "cell_type": "code",
   "execution_count": 7,
   "metadata": {},
   "outputs": [
    {
     "data": {
      "text/html": [
       "<div>\n",
       "<style scoped>\n",
       "    .dataframe tbody tr th:only-of-type {\n",
       "        vertical-align: middle;\n",
       "    }\n",
       "\n",
       "    .dataframe tbody tr th {\n",
       "        vertical-align: top;\n",
       "    }\n",
       "\n",
       "    .dataframe thead th {\n",
       "        text-align: right;\n",
       "    }\n",
       "</style>\n",
       "<table border=\"1\" class=\"dataframe\">\n",
       "  <thead>\n",
       "    <tr style=\"text-align: right;\">\n",
       "      <th></th>\n",
       "      <th>count</th>\n",
       "      <th>unique</th>\n",
       "      <th>top</th>\n",
       "      <th>freq</th>\n",
       "      <th>mean</th>\n",
       "      <th>std</th>\n",
       "      <th>min</th>\n",
       "      <th>25%</th>\n",
       "      <th>50%</th>\n",
       "      <th>75%</th>\n",
       "      <th>max</th>\n",
       "    </tr>\n",
       "  </thead>\n",
       "  <tbody>\n",
       "    <tr>\n",
       "      <th>Suburb</th>\n",
       "      <td>34857</td>\n",
       "      <td>351</td>\n",
       "      <td>Reservoir</td>\n",
       "      <td>844</td>\n",
       "      <td>NaN</td>\n",
       "      <td>NaN</td>\n",
       "      <td>NaN</td>\n",
       "      <td>NaN</td>\n",
       "      <td>NaN</td>\n",
       "      <td>NaN</td>\n",
       "      <td>NaN</td>\n",
       "    </tr>\n",
       "    <tr>\n",
       "      <th>Address</th>\n",
       "      <td>34857</td>\n",
       "      <td>34009</td>\n",
       "      <td>5 Charles St</td>\n",
       "      <td>6</td>\n",
       "      <td>NaN</td>\n",
       "      <td>NaN</td>\n",
       "      <td>NaN</td>\n",
       "      <td>NaN</td>\n",
       "      <td>NaN</td>\n",
       "      <td>NaN</td>\n",
       "      <td>NaN</td>\n",
       "    </tr>\n",
       "    <tr>\n",
       "      <th>Rooms</th>\n",
       "      <td>34857</td>\n",
       "      <td>NaN</td>\n",
       "      <td>NaN</td>\n",
       "      <td>NaN</td>\n",
       "      <td>3.03101</td>\n",
       "      <td>0.969933</td>\n",
       "      <td>1</td>\n",
       "      <td>2</td>\n",
       "      <td>3</td>\n",
       "      <td>4</td>\n",
       "      <td>16</td>\n",
       "    </tr>\n",
       "    <tr>\n",
       "      <th>Type</th>\n",
       "      <td>34857</td>\n",
       "      <td>3</td>\n",
       "      <td>h</td>\n",
       "      <td>23980</td>\n",
       "      <td>NaN</td>\n",
       "      <td>NaN</td>\n",
       "      <td>NaN</td>\n",
       "      <td>NaN</td>\n",
       "      <td>NaN</td>\n",
       "      <td>NaN</td>\n",
       "      <td>NaN</td>\n",
       "    </tr>\n",
       "    <tr>\n",
       "      <th>Price</th>\n",
       "      <td>27247</td>\n",
       "      <td>NaN</td>\n",
       "      <td>NaN</td>\n",
       "      <td>NaN</td>\n",
       "      <td>1.05017e+06</td>\n",
       "      <td>641467</td>\n",
       "      <td>85000</td>\n",
       "      <td>635000</td>\n",
       "      <td>870000</td>\n",
       "      <td>1.295e+06</td>\n",
       "      <td>1.12e+07</td>\n",
       "    </tr>\n",
       "    <tr>\n",
       "      <th>Method</th>\n",
       "      <td>34857</td>\n",
       "      <td>9</td>\n",
       "      <td>S</td>\n",
       "      <td>19744</td>\n",
       "      <td>NaN</td>\n",
       "      <td>NaN</td>\n",
       "      <td>NaN</td>\n",
       "      <td>NaN</td>\n",
       "      <td>NaN</td>\n",
       "      <td>NaN</td>\n",
       "      <td>NaN</td>\n",
       "    </tr>\n",
       "    <tr>\n",
       "      <th>SellerG</th>\n",
       "      <td>34857</td>\n",
       "      <td>388</td>\n",
       "      <td>Jellis</td>\n",
       "      <td>3359</td>\n",
       "      <td>NaN</td>\n",
       "      <td>NaN</td>\n",
       "      <td>NaN</td>\n",
       "      <td>NaN</td>\n",
       "      <td>NaN</td>\n",
       "      <td>NaN</td>\n",
       "      <td>NaN</td>\n",
       "    </tr>\n",
       "    <tr>\n",
       "      <th>Date</th>\n",
       "      <td>34857</td>\n",
       "      <td>78</td>\n",
       "      <td>28/10/2017</td>\n",
       "      <td>1119</td>\n",
       "      <td>NaN</td>\n",
       "      <td>NaN</td>\n",
       "      <td>NaN</td>\n",
       "      <td>NaN</td>\n",
       "      <td>NaN</td>\n",
       "      <td>NaN</td>\n",
       "      <td>NaN</td>\n",
       "    </tr>\n",
       "    <tr>\n",
       "      <th>Distance</th>\n",
       "      <td>34856</td>\n",
       "      <td>NaN</td>\n",
       "      <td>NaN</td>\n",
       "      <td>NaN</td>\n",
       "      <td>11.1849</td>\n",
       "      <td>6.78889</td>\n",
       "      <td>0</td>\n",
       "      <td>6.4</td>\n",
       "      <td>10.3</td>\n",
       "      <td>14</td>\n",
       "      <td>48.1</td>\n",
       "    </tr>\n",
       "    <tr>\n",
       "      <th>Postcode</th>\n",
       "      <td>34856</td>\n",
       "      <td>NaN</td>\n",
       "      <td>NaN</td>\n",
       "      <td>NaN</td>\n",
       "      <td>3116.06</td>\n",
       "      <td>109.024</td>\n",
       "      <td>3000</td>\n",
       "      <td>3051</td>\n",
       "      <td>3103</td>\n",
       "      <td>3156</td>\n",
       "      <td>3978</td>\n",
       "    </tr>\n",
       "    <tr>\n",
       "      <th>Bedroom2</th>\n",
       "      <td>26640</td>\n",
       "      <td>NaN</td>\n",
       "      <td>NaN</td>\n",
       "      <td>NaN</td>\n",
       "      <td>3.08465</td>\n",
       "      <td>0.98069</td>\n",
       "      <td>0</td>\n",
       "      <td>2</td>\n",
       "      <td>3</td>\n",
       "      <td>4</td>\n",
       "      <td>30</td>\n",
       "    </tr>\n",
       "    <tr>\n",
       "      <th>Bathroom</th>\n",
       "      <td>26631</td>\n",
       "      <td>NaN</td>\n",
       "      <td>NaN</td>\n",
       "      <td>NaN</td>\n",
       "      <td>1.6248</td>\n",
       "      <td>0.724212</td>\n",
       "      <td>0</td>\n",
       "      <td>1</td>\n",
       "      <td>2</td>\n",
       "      <td>2</td>\n",
       "      <td>12</td>\n",
       "    </tr>\n",
       "    <tr>\n",
       "      <th>Car</th>\n",
       "      <td>26129</td>\n",
       "      <td>NaN</td>\n",
       "      <td>NaN</td>\n",
       "      <td>NaN</td>\n",
       "      <td>1.72885</td>\n",
       "      <td>1.01077</td>\n",
       "      <td>0</td>\n",
       "      <td>1</td>\n",
       "      <td>2</td>\n",
       "      <td>2</td>\n",
       "      <td>26</td>\n",
       "    </tr>\n",
       "    <tr>\n",
       "      <th>Landsize</th>\n",
       "      <td>23047</td>\n",
       "      <td>NaN</td>\n",
       "      <td>NaN</td>\n",
       "      <td>NaN</td>\n",
       "      <td>593.599</td>\n",
       "      <td>3398.84</td>\n",
       "      <td>0</td>\n",
       "      <td>224</td>\n",
       "      <td>521</td>\n",
       "      <td>670</td>\n",
       "      <td>433014</td>\n",
       "    </tr>\n",
       "    <tr>\n",
       "      <th>BuildingArea</th>\n",
       "      <td>13742</td>\n",
       "      <td>NaN</td>\n",
       "      <td>NaN</td>\n",
       "      <td>NaN</td>\n",
       "      <td>160.256</td>\n",
       "      <td>401.267</td>\n",
       "      <td>0</td>\n",
       "      <td>102</td>\n",
       "      <td>136</td>\n",
       "      <td>188</td>\n",
       "      <td>44515</td>\n",
       "    </tr>\n",
       "    <tr>\n",
       "      <th>YearBuilt</th>\n",
       "      <td>15551</td>\n",
       "      <td>NaN</td>\n",
       "      <td>NaN</td>\n",
       "      <td>NaN</td>\n",
       "      <td>1965.29</td>\n",
       "      <td>37.3282</td>\n",
       "      <td>1196</td>\n",
       "      <td>1940</td>\n",
       "      <td>1970</td>\n",
       "      <td>2000</td>\n",
       "      <td>2106</td>\n",
       "    </tr>\n",
       "    <tr>\n",
       "      <th>CouncilArea</th>\n",
       "      <td>34854</td>\n",
       "      <td>33</td>\n",
       "      <td>Boroondara City Council</td>\n",
       "      <td>3675</td>\n",
       "      <td>NaN</td>\n",
       "      <td>NaN</td>\n",
       "      <td>NaN</td>\n",
       "      <td>NaN</td>\n",
       "      <td>NaN</td>\n",
       "      <td>NaN</td>\n",
       "      <td>NaN</td>\n",
       "    </tr>\n",
       "    <tr>\n",
       "      <th>Lattitude</th>\n",
       "      <td>26881</td>\n",
       "      <td>NaN</td>\n",
       "      <td>NaN</td>\n",
       "      <td>NaN</td>\n",
       "      <td>-37.8106</td>\n",
       "      <td>0.0902789</td>\n",
       "      <td>-38.1904</td>\n",
       "      <td>-37.8629</td>\n",
       "      <td>-37.8076</td>\n",
       "      <td>-37.7541</td>\n",
       "      <td>-37.3902</td>\n",
       "    </tr>\n",
       "    <tr>\n",
       "      <th>Longtitude</th>\n",
       "      <td>26881</td>\n",
       "      <td>NaN</td>\n",
       "      <td>NaN</td>\n",
       "      <td>NaN</td>\n",
       "      <td>145.002</td>\n",
       "      <td>0.120169</td>\n",
       "      <td>144.424</td>\n",
       "      <td>144.934</td>\n",
       "      <td>145.008</td>\n",
       "      <td>145.072</td>\n",
       "      <td>145.526</td>\n",
       "    </tr>\n",
       "    <tr>\n",
       "      <th>Regionname</th>\n",
       "      <td>34854</td>\n",
       "      <td>8</td>\n",
       "      <td>Southern Metropolitan</td>\n",
       "      <td>11836</td>\n",
       "      <td>NaN</td>\n",
       "      <td>NaN</td>\n",
       "      <td>NaN</td>\n",
       "      <td>NaN</td>\n",
       "      <td>NaN</td>\n",
       "      <td>NaN</td>\n",
       "      <td>NaN</td>\n",
       "    </tr>\n",
       "    <tr>\n",
       "      <th>Propertycount</th>\n",
       "      <td>34854</td>\n",
       "      <td>NaN</td>\n",
       "      <td>NaN</td>\n",
       "      <td>NaN</td>\n",
       "      <td>7572.89</td>\n",
       "      <td>4428.09</td>\n",
       "      <td>83</td>\n",
       "      <td>4385</td>\n",
       "      <td>6763</td>\n",
       "      <td>10412</td>\n",
       "      <td>21650</td>\n",
       "    </tr>\n",
       "  </tbody>\n",
       "</table>\n",
       "</div>"
      ],
      "text/plain": [
       "               count unique                      top   freq         mean  \\\n",
       "Suburb         34857    351                Reservoir    844          NaN   \n",
       "Address        34857  34009             5 Charles St      6          NaN   \n",
       "Rooms          34857    NaN                      NaN    NaN      3.03101   \n",
       "Type           34857      3                        h  23980          NaN   \n",
       "Price          27247    NaN                      NaN    NaN  1.05017e+06   \n",
       "Method         34857      9                        S  19744          NaN   \n",
       "SellerG        34857    388                   Jellis   3359          NaN   \n",
       "Date           34857     78               28/10/2017   1119          NaN   \n",
       "Distance       34856    NaN                      NaN    NaN      11.1849   \n",
       "Postcode       34856    NaN                      NaN    NaN      3116.06   \n",
       "Bedroom2       26640    NaN                      NaN    NaN      3.08465   \n",
       "Bathroom       26631    NaN                      NaN    NaN       1.6248   \n",
       "Car            26129    NaN                      NaN    NaN      1.72885   \n",
       "Landsize       23047    NaN                      NaN    NaN      593.599   \n",
       "BuildingArea   13742    NaN                      NaN    NaN      160.256   \n",
       "YearBuilt      15551    NaN                      NaN    NaN      1965.29   \n",
       "CouncilArea    34854     33  Boroondara City Council   3675          NaN   \n",
       "Lattitude      26881    NaN                      NaN    NaN     -37.8106   \n",
       "Longtitude     26881    NaN                      NaN    NaN      145.002   \n",
       "Regionname     34854      8    Southern Metropolitan  11836          NaN   \n",
       "Propertycount  34854    NaN                      NaN    NaN      7572.89   \n",
       "\n",
       "                     std      min      25%      50%        75%       max  \n",
       "Suburb               NaN      NaN      NaN      NaN        NaN       NaN  \n",
       "Address              NaN      NaN      NaN      NaN        NaN       NaN  \n",
       "Rooms           0.969933        1        2        3          4        16  \n",
       "Type                 NaN      NaN      NaN      NaN        NaN       NaN  \n",
       "Price             641467    85000   635000   870000  1.295e+06  1.12e+07  \n",
       "Method               NaN      NaN      NaN      NaN        NaN       NaN  \n",
       "SellerG              NaN      NaN      NaN      NaN        NaN       NaN  \n",
       "Date                 NaN      NaN      NaN      NaN        NaN       NaN  \n",
       "Distance         6.78889        0      6.4     10.3         14      48.1  \n",
       "Postcode         109.024     3000     3051     3103       3156      3978  \n",
       "Bedroom2         0.98069        0        2        3          4        30  \n",
       "Bathroom        0.724212        0        1        2          2        12  \n",
       "Car              1.01077        0        1        2          2        26  \n",
       "Landsize         3398.84        0      224      521        670    433014  \n",
       "BuildingArea     401.267        0      102      136        188     44515  \n",
       "YearBuilt        37.3282     1196     1940     1970       2000      2106  \n",
       "CouncilArea          NaN      NaN      NaN      NaN        NaN       NaN  \n",
       "Lattitude      0.0902789 -38.1904 -37.8629 -37.8076   -37.7541  -37.3902  \n",
       "Longtitude      0.120169  144.424  144.934  145.008    145.072   145.526  \n",
       "Regionname           NaN      NaN      NaN      NaN        NaN       NaN  \n",
       "Propertycount    4428.09       83     4385     6763      10412     21650  "
      ]
     },
     "execution_count": 7,
     "metadata": {},
     "output_type": "execute_result"
    }
   ],
   "source": [
    "#Transposer les colonnes en cellules pour avoir un affichage plus clair sur les données\n",
    "dataset.describe(include='all').T"
   ]
  },
  {
   "cell_type": "markdown",
   "metadata": {},
   "source": [
    "Il semble que notre ensemble de données comporte une tonne de valeurs manquantes, environ 75%. Voyons si nous pouvons nettoyer une partie de cela en supprimant les fonctionnalités inutiles remplissant certains NaN. Nous devrons également travailler avec nos dtypes, nous avons 8 instances de dtype = object que nous devrons corriger."
   ]
  },
  {
   "cell_type": "markdown",
   "metadata": {},
   "source": [
    "Caractéristiques descriptives :\n",
    "  Suburb: Banlieue Adress: adresse \n",
    "  Rooms: Nombre de chambres \n",
    "  Type: Br - chambre (s); h - maison, chalet, villa, semi, terrasse; u - unité, duplex; t - maison de ville; site de   développement site de développement; o res - autre résidentiel.\n",
    "  Price: Prix en dollars Method: S - propriété vendue; SP - propriété vendue auparavant; PI - propriété transmise; PN - vendu  auparavant non divulgué; SN - vendu non divulgué; NB - pas de soumission; VB - offre du fournisseur; W - retiré avant la vente aux enchères; SA - vendu après vente aux enchères; SS - vendu après le prix des enchères non divulgué. N / A - prix ou offre la plus élevée non disponible. \n",
    "  SellerG: Agent immobilier \n",
    "  Date: Date de vente \n",
    "  Distance: Distance du CBD \n",
    "  PostCode: Code postal \n",
    "  RegionName: Région générale (Ouest, Nord-Ouest, Nord, Nord-Est… etc.) \n",
    "  Propertycount: nombre de propriétés qui existent dans la banlieue.\n",
    "  bedroom2: Nombre de chambres gratté (de source différente) \n",
    "  Bathroom: Nombre de salles de bain Car: nombre de places de stationnement\n",
    "  Landsize: Taille du terrain \n",
    "  BuildingArea: Taille du bâtiment Année de construction: \n",
    "  YearBuilt\t: année de construction de la maison    \n",
    "  CouncilArea: Conseil d'administration de la région"
   ]
  },
  {
   "cell_type": "markdown",
   "metadata": {},
   "source": [
    "### Partie 1 : Analyse graphique des données"
   ]
  },
  {
   "cell_type": "markdown",
   "metadata": {},
   "source": [
    "### Nettoyage du dataset"
   ]
  },
  {
   "cell_type": "code",
   "execution_count": 8,
   "metadata": {},
   "outputs": [],
   "source": [
    "#changeons le Postcode\n",
    "dataset['Postcode']= dataset['Postcode'].astype('object')\n",
    "#Changeons Propertycount en catégorie\n",
    "dataset['Propertycount']= dataset['Propertycount'].astype('object')"
   ]
  },
  {
   "cell_type": "markdown",
   "metadata": {},
   "source": [
    "Il semble que Bedroom2 soit très similaire à Rooms, nous pouvons le vérifions avec un simple nuage de points:"
   ]
  },
  {
   "cell_type": "code",
   "execution_count": 9,
   "metadata": {},
   "outputs": [
    {
     "data": {
      "text/plain": [
       "<seaborn.axisgrid.FacetGrid at 0x7febd3bcb470>"
      ]
     },
     "execution_count": 9,
     "metadata": {},
     "output_type": "execute_result"
    },
    {
     "data": {
      "image/png": "[encoded data removed]",
      "text/plain": [
       "<Figure size 360x360 with 1 Axes>"
      ]
     },
     "metadata": {},
     "output_type": "display_data"
    }
   ],
   "source": [
    "sns.lmplot(data= dataset, x='Bedroom2', y='Rooms')"
   ]
  },
  {
   "cell_type": "markdown",
   "metadata": {},
   "source": [
    "Ainsi comme nous pouvons le voir ci-dessus, la relation est presque parfaitement linéaire, donc ils correspondent presque parfaitement. Ainsi la variable Bedroom2 ne fournit pas des informations supplémentaires que Rooms."
   ]
  },
  {
   "cell_type": "code",
   "execution_count": 10,
   "metadata": {},
   "outputs": [],
   "source": [
    "#drop Bedroom2\n",
    "dataset= dataset.drop(['Bedroom2'], axis=1)"
   ]
  },
  {
   "cell_type": "code",
   "execution_count": 11,
   "metadata": {},
   "outputs": [
    {
     "data": {
      "text/plain": [
       "1.0     12969\n",
       "2.0     11064\n",
       "3.0      2181\n",
       "4.0       269\n",
       "5.0        77\n",
       "0.0        46\n",
       "6.0        16\n",
       "7.0         4\n",
       "8.0         3\n",
       "9.0         1\n",
       "12.0        1\n",
       "Name: Bathroom, dtype: int64"
      ]
     },
     "execution_count": 11,
     "metadata": {},
     "output_type": "execute_result"
    }
   ],
   "source": [
    "# verifions le nombre de bathrooms\n",
    "dataset['Bathroom'].value_counts()"
   ]
  },
  {
   "cell_type": "markdown",
   "metadata": {},
   "source": [
    "Il semblerait que 46 propriétés ne disposent pas de salle de bain! Je pense qu'il devrait s'agir de vieilles maisons avec une salle de bain commune à l'extérieur. Aussi, je trouve étrange qu'il y ait une propriété avec 12 salles de bains, même si je suppose que c'est techniquement possible. Jetons un coup d'œil aux maisons avec plus de 7 salles de bain."
   ]
  },
  {
   "cell_type": "code",
   "execution_count": 12,
   "metadata": {},
   "outputs": [
    {
     "data": {
      "text/html": [
       "<div>\n",
       "<style scoped>\n",
       "    .dataframe tbody tr th:only-of-type {\n",
       "        vertical-align: middle;\n",
       "    }\n",
       "\n",
       "    .dataframe tbody tr th {\n",
       "        vertical-align: top;\n",
       "    }\n",
       "\n",
       "    .dataframe thead th {\n",
       "        text-align: right;\n",
       "    }\n",
       "</style>\n",
       "<table border=\"1\" class=\"dataframe\">\n",
       "  <thead>\n",
       "    <tr style=\"text-align: right;\">\n",
       "      <th></th>\n",
       "      <th>Suburb</th>\n",
       "      <th>Address</th>\n",
       "      <th>Rooms</th>\n",
       "      <th>Type</th>\n",
       "      <th>Price</th>\n",
       "      <th>Method</th>\n",
       "      <th>SellerG</th>\n",
       "      <th>Date</th>\n",
       "      <th>Distance</th>\n",
       "      <th>Postcode</th>\n",
       "      <th>Bathroom</th>\n",
       "      <th>Car</th>\n",
       "      <th>Landsize</th>\n",
       "      <th>BuildingArea</th>\n",
       "      <th>YearBuilt</th>\n",
       "      <th>CouncilArea</th>\n",
       "      <th>Lattitude</th>\n",
       "      <th>Longtitude</th>\n",
       "      <th>Regionname</th>\n",
       "      <th>Propertycount</th>\n",
       "    </tr>\n",
       "  </thead>\n",
       "  <tbody>\n",
       "    <tr>\n",
       "      <th>2536</th>\n",
       "      <td>Burwood</td>\n",
       "      <td>36 Cumming St</td>\n",
       "      <td>3</td>\n",
       "      <td>h</td>\n",
       "      <td>NaN</td>\n",
       "      <td>PI</td>\n",
       "      <td>Ross</td>\n",
       "      <td>8/10/2016</td>\n",
       "      <td>11.7</td>\n",
       "      <td>3125</td>\n",
       "      <td>12.0</td>\n",
       "      <td>0.0</td>\n",
       "      <td>946.0</td>\n",
       "      <td>NaN</td>\n",
       "      <td>1950.0</td>\n",
       "      <td>Monash City Council</td>\n",
       "      <td>-37.85300</td>\n",
       "      <td>145.11290</td>\n",
       "      <td>Southern Metropolitan</td>\n",
       "      <td>5678</td>\n",
       "    </tr>\n",
       "    <tr>\n",
       "      <th>8251</th>\n",
       "      <td>Preston</td>\n",
       "      <td>421 Murray Rd</td>\n",
       "      <td>4</td>\n",
       "      <td>h</td>\n",
       "      <td>760000.0</td>\n",
       "      <td>PI</td>\n",
       "      <td>Barry</td>\n",
       "      <td>22/05/2016</td>\n",
       "      <td>8.8</td>\n",
       "      <td>3072</td>\n",
       "      <td>8.0</td>\n",
       "      <td>7.0</td>\n",
       "      <td>1254.0</td>\n",
       "      <td>280.0</td>\n",
       "      <td>1928.0</td>\n",
       "      <td>Darebin City Council</td>\n",
       "      <td>-37.73670</td>\n",
       "      <td>144.98950</td>\n",
       "      <td>Northern Metropolitan</td>\n",
       "      <td>14577</td>\n",
       "    </tr>\n",
       "    <tr>\n",
       "      <th>17472</th>\n",
       "      <td>Camberwell</td>\n",
       "      <td>1088 Toorak Rd</td>\n",
       "      <td>8</td>\n",
       "      <td>h</td>\n",
       "      <td>2200000.0</td>\n",
       "      <td>PI</td>\n",
       "      <td>Ross</td>\n",
       "      <td>8/07/2017</td>\n",
       "      <td>7.7</td>\n",
       "      <td>3124</td>\n",
       "      <td>8.0</td>\n",
       "      <td>4.0</td>\n",
       "      <td>650.0</td>\n",
       "      <td>NaN</td>\n",
       "      <td>NaN</td>\n",
       "      <td>Boroondara City Council</td>\n",
       "      <td>-37.84812</td>\n",
       "      <td>145.07414</td>\n",
       "      <td>Southern Metropolitan</td>\n",
       "      <td>8920</td>\n",
       "    </tr>\n",
       "    <tr>\n",
       "      <th>25717</th>\n",
       "      <td>Burwood</td>\n",
       "      <td>79 Elgar Rd</td>\n",
       "      <td>10</td>\n",
       "      <td>h</td>\n",
       "      <td>2315000.0</td>\n",
       "      <td>SP</td>\n",
       "      <td>Buxton</td>\n",
       "      <td>28/10/2017</td>\n",
       "      <td>10.4</td>\n",
       "      <td>3125</td>\n",
       "      <td>9.0</td>\n",
       "      <td>2.0</td>\n",
       "      <td>612.0</td>\n",
       "      <td>466.0</td>\n",
       "      <td>2015.0</td>\n",
       "      <td>Monash City Council</td>\n",
       "      <td>-37.84461</td>\n",
       "      <td>145.10968</td>\n",
       "      <td>Southern Metropolitan</td>\n",
       "      <td>5678</td>\n",
       "    </tr>\n",
       "    <tr>\n",
       "      <th>26210</th>\n",
       "      <td>Mitcham</td>\n",
       "      <td>20 Harrison St</td>\n",
       "      <td>16</td>\n",
       "      <td>h</td>\n",
       "      <td>5000000.0</td>\n",
       "      <td>S</td>\n",
       "      <td>Buxton</td>\n",
       "      <td>28/10/2017</td>\n",
       "      <td>17.2</td>\n",
       "      <td>3132</td>\n",
       "      <td>8.0</td>\n",
       "      <td>8.0</td>\n",
       "      <td>NaN</td>\n",
       "      <td>NaN</td>\n",
       "      <td>NaN</td>\n",
       "      <td>Whitehorse City Council</td>\n",
       "      <td>-37.81405</td>\n",
       "      <td>145.19891</td>\n",
       "      <td>Eastern Metropolitan</td>\n",
       "      <td>6871</td>\n",
       "    </tr>\n",
       "  </tbody>\n",
       "</table>\n",
       "</div>"
      ],
      "text/plain": [
       "           Suburb         Address  Rooms Type      Price Method SellerG  \\\n",
       "2536      Burwood   36 Cumming St      3    h        NaN     PI    Ross   \n",
       "8251      Preston   421 Murray Rd      4    h   760000.0     PI   Barry   \n",
       "17472  Camberwell  1088 Toorak Rd      8    h  2200000.0     PI    Ross   \n",
       "25717     Burwood     79 Elgar Rd     10    h  2315000.0     SP  Buxton   \n",
       "26210     Mitcham  20 Harrison St     16    h  5000000.0      S  Buxton   \n",
       "\n",
       "             Date  Distance Postcode  Bathroom  Car  Landsize  BuildingArea  \\\n",
       "2536    8/10/2016      11.7     3125      12.0  0.0     946.0           NaN   \n",
       "8251   22/05/2016       8.8     3072       8.0  7.0    1254.0         280.0   \n",
       "17472   8/07/2017       7.7     3124       8.0  4.0     650.0           NaN   \n",
       "25717  28/10/2017      10.4     3125       9.0  2.0     612.0         466.0   \n",
       "26210  28/10/2017      17.2     3132       8.0  8.0       NaN           NaN   \n",
       "\n",
       "       YearBuilt              CouncilArea  Lattitude  Longtitude  \\\n",
       "2536      1950.0      Monash City Council  -37.85300   145.11290   \n",
       "8251      1928.0     Darebin City Council  -37.73670   144.98950   \n",
       "17472        NaN  Boroondara City Council  -37.84812   145.07414   \n",
       "25717     2015.0      Monash City Council  -37.84461   145.10968   \n",
       "26210        NaN  Whitehorse City Council  -37.81405   145.19891   \n",
       "\n",
       "                  Regionname Propertycount  \n",
       "2536   Southern Metropolitan          5678  \n",
       "8251   Northern Metropolitan         14577  \n",
       "17472  Southern Metropolitan          8920  \n",
       "25717  Southern Metropolitan          5678  \n",
       "26210   Eastern Metropolitan          6871  "
      ]
     },
     "execution_count": 12,
     "metadata": {},
     "output_type": "execute_result"
    }
   ],
   "source": [
    "dataset.loc[dataset.Bathroom>7].head()"
   ]
  },
  {
   "cell_type": "code",
   "execution_count": 13,
   "metadata": {},
   "outputs": [
    {
     "data": {
      "text/html": [
       "<div>\n",
       "<style scoped>\n",
       "    .dataframe tbody tr th:only-of-type {\n",
       "        vertical-align: middle;\n",
       "    }\n",
       "\n",
       "    .dataframe tbody tr th {\n",
       "        vertical-align: top;\n",
       "    }\n",
       "\n",
       "    .dataframe thead th {\n",
       "        text-align: right;\n",
       "    }\n",
       "</style>\n",
       "<table border=\"1\" class=\"dataframe\">\n",
       "  <thead>\n",
       "    <tr style=\"text-align: right;\">\n",
       "      <th></th>\n",
       "      <th>Suburb</th>\n",
       "      <th>Address</th>\n",
       "      <th>Rooms</th>\n",
       "      <th>Type</th>\n",
       "      <th>Price</th>\n",
       "      <th>Method</th>\n",
       "      <th>SellerG</th>\n",
       "      <th>Date</th>\n",
       "      <th>Distance</th>\n",
       "      <th>Postcode</th>\n",
       "      <th>Bathroom</th>\n",
       "      <th>Car</th>\n",
       "      <th>Landsize</th>\n",
       "      <th>BuildingArea</th>\n",
       "      <th>YearBuilt</th>\n",
       "      <th>CouncilArea</th>\n",
       "      <th>Lattitude</th>\n",
       "      <th>Longtitude</th>\n",
       "      <th>Regionname</th>\n",
       "      <th>Propertycount</th>\n",
       "    </tr>\n",
       "  </thead>\n",
       "  <tbody>\n",
       "    <tr>\n",
       "      <th>7211</th>\n",
       "      <td>North Melbourne</td>\n",
       "      <td>19 Shands La</td>\n",
       "      <td>2</td>\n",
       "      <td>t</td>\n",
       "      <td>841000.0</td>\n",
       "      <td>S</td>\n",
       "      <td>Jellis</td>\n",
       "      <td>4/03/2017</td>\n",
       "      <td>2.3</td>\n",
       "      <td>3051</td>\n",
       "      <td>1.0</td>\n",
       "      <td>1.0</td>\n",
       "      <td>215.0</td>\n",
       "      <td>0.00</td>\n",
       "      <td>2000.0</td>\n",
       "      <td>Melbourne City Council</td>\n",
       "      <td>-37.79530</td>\n",
       "      <td>144.94370</td>\n",
       "      <td>Northern Metropolitan</td>\n",
       "      <td>6821</td>\n",
       "    </tr>\n",
       "    <tr>\n",
       "      <th>16540</th>\n",
       "      <td>South Melbourne</td>\n",
       "      <td>148 Cobden St</td>\n",
       "      <td>3</td>\n",
       "      <td>h</td>\n",
       "      <td>NaN</td>\n",
       "      <td>S</td>\n",
       "      <td>Marshall</td>\n",
       "      <td>24/06/2017</td>\n",
       "      <td>1.9</td>\n",
       "      <td>3205</td>\n",
       "      <td>2.0</td>\n",
       "      <td>0.0</td>\n",
       "      <td>282.0</td>\n",
       "      <td>0.01</td>\n",
       "      <td>1920.0</td>\n",
       "      <td>Port Phillip City Council</td>\n",
       "      <td>-37.83658</td>\n",
       "      <td>144.96292</td>\n",
       "      <td>Southern Metropolitan</td>\n",
       "      <td>5943</td>\n",
       "    </tr>\n",
       "    <tr>\n",
       "      <th>19775</th>\n",
       "      <td>Balwyn North</td>\n",
       "      <td>14 Wanbrow Av</td>\n",
       "      <td>5</td>\n",
       "      <td>h</td>\n",
       "      <td>1950000.0</td>\n",
       "      <td>S</td>\n",
       "      <td>RT</td>\n",
       "      <td>3/09/2017</td>\n",
       "      <td>9.7</td>\n",
       "      <td>3104</td>\n",
       "      <td>3.0</td>\n",
       "      <td>2.0</td>\n",
       "      <td>743.0</td>\n",
       "      <td>0.00</td>\n",
       "      <td>1949.0</td>\n",
       "      <td>Boroondara City Council</td>\n",
       "      <td>-37.80235</td>\n",
       "      <td>145.09311</td>\n",
       "      <td>Southern Metropolitan</td>\n",
       "      <td>7809</td>\n",
       "    </tr>\n",
       "    <tr>\n",
       "      <th>19840</th>\n",
       "      <td>Bundoora</td>\n",
       "      <td>22 Moreton Cr</td>\n",
       "      <td>3</td>\n",
       "      <td>h</td>\n",
       "      <td>814000.0</td>\n",
       "      <td>S</td>\n",
       "      <td>Barry</td>\n",
       "      <td>3/09/2017</td>\n",
       "      <td>12.1</td>\n",
       "      <td>3083</td>\n",
       "      <td>1.0</td>\n",
       "      <td>2.0</td>\n",
       "      <td>542.0</td>\n",
       "      <td>0.00</td>\n",
       "      <td>1970.0</td>\n",
       "      <td>Banyule City Council</td>\n",
       "      <td>-37.70861</td>\n",
       "      <td>145.05691</td>\n",
       "      <td>Northern Metropolitan</td>\n",
       "      <td>10175</td>\n",
       "    </tr>\n",
       "    <tr>\n",
       "      <th>20038</th>\n",
       "      <td>Heidelberg Heights</td>\n",
       "      <td>8 Thames St</td>\n",
       "      <td>3</td>\n",
       "      <td>h</td>\n",
       "      <td>NaN</td>\n",
       "      <td>SN</td>\n",
       "      <td>Miles</td>\n",
       "      <td>3/09/2017</td>\n",
       "      <td>8.8</td>\n",
       "      <td>3081</td>\n",
       "      <td>1.0</td>\n",
       "      <td>2.0</td>\n",
       "      <td>658.0</td>\n",
       "      <td>0.00</td>\n",
       "      <td>1920.0</td>\n",
       "      <td>Banyule City Council</td>\n",
       "      <td>-37.75287</td>\n",
       "      <td>145.05547</td>\n",
       "      <td>Eastern Metropolitan</td>\n",
       "      <td>2947</td>\n",
       "    </tr>\n",
       "  </tbody>\n",
       "</table>\n",
       "</div>"
      ],
      "text/plain": [
       "                   Suburb        Address  Rooms Type      Price Method  \\\n",
       "7211      North Melbourne   19 Shands La      2    t   841000.0      S   \n",
       "16540     South Melbourne  148 Cobden St      3    h        NaN      S   \n",
       "19775        Balwyn North  14 Wanbrow Av      5    h  1950000.0      S   \n",
       "19840            Bundoora  22 Moreton Cr      3    h   814000.0      S   \n",
       "20038  Heidelberg Heights    8 Thames St      3    h        NaN     SN   \n",
       "\n",
       "        SellerG        Date  Distance Postcode  Bathroom  Car  Landsize  \\\n",
       "7211     Jellis   4/03/2017       2.3     3051       1.0  1.0     215.0   \n",
       "16540  Marshall  24/06/2017       1.9     3205       2.0  0.0     282.0   \n",
       "19775        RT   3/09/2017       9.7     3104       3.0  2.0     743.0   \n",
       "19840     Barry   3/09/2017      12.1     3083       1.0  2.0     542.0   \n",
       "20038     Miles   3/09/2017       8.8     3081       1.0  2.0     658.0   \n",
       "\n",
       "       BuildingArea  YearBuilt                CouncilArea  Lattitude  \\\n",
       "7211           0.00     2000.0     Melbourne City Council  -37.79530   \n",
       "16540          0.01     1920.0  Port Phillip City Council  -37.83658   \n",
       "19775          0.00     1949.0    Boroondara City Council  -37.80235   \n",
       "19840          0.00     1970.0       Banyule City Council  -37.70861   \n",
       "20038          0.00     1920.0       Banyule City Council  -37.75287   \n",
       "\n",
       "       Longtitude             Regionname Propertycount  \n",
       "7211    144.94370  Northern Metropolitan          6821  \n",
       "16540   144.96292  Southern Metropolitan          5943  \n",
       "19775   145.09311  Southern Metropolitan          7809  \n",
       "19840   145.05691  Northern Metropolitan         10175  \n",
       "20038   145.05547   Eastern Metropolitan          2947  "
      ]
     },
     "execution_count": 13,
     "metadata": {},
     "output_type": "execute_result"
    }
   ],
   "source": [
    "#vérifions buildingArea \n",
    "dataset.loc[dataset.BuildingArea<1].head()"
   ]
  },
  {
   "cell_type": "code",
   "execution_count": 14,
   "metadata": {},
   "outputs": [
    {
     "data": {
      "text/plain": [
       "77"
      ]
     },
     "execution_count": 14,
     "metadata": {},
     "output_type": "execute_result"
    }
   ],
   "source": [
    "dataset['BuildingArea'].loc[dataset.BuildingArea<1].count()"
   ]
  },
  {
   "cell_type": "markdown",
   "metadata": {},
   "source": [
    " il semble que 77 maisons n'ont pas de zone de construction, donc nous pouvons supprimer ces données."
   ]
  },
  {
   "cell_type": "code",
   "execution_count": 15,
   "metadata": {},
   "outputs": [],
   "source": [
    "dataset = dataset[~(dataset['BuildingArea'] < 1)]  \n",
    "dataset['BuildingArea'].loc[dataset.BuildingArea<1].count()\n",
    "#il est important maintenant de réinitialiser l'index, sinon on aura des lignes manquantes dans le dataset, ce qui peut être gênant plus tard.\n",
    "dataset = dataset.reset_index()"
   ]
  },
  {
   "cell_type": "code",
   "execution_count": 16,
   "metadata": {},
   "outputs": [
    {
     "data": {
      "text/plain": [
       "index                0\n",
       "Suburb               0\n",
       "Address              0\n",
       "Rooms                0\n",
       "Type                 0\n",
       "Price             7594\n",
       "Method               0\n",
       "SellerG              0\n",
       "Date                 0\n",
       "Distance             1\n",
       "Postcode             1\n",
       "Bathroom          8226\n",
       "Car               8726\n",
       "Landsize         11790\n",
       "BuildingArea     21115\n",
       "YearBuilt        19304\n",
       "CouncilArea          3\n",
       "Lattitude         7976\n",
       "Longtitude        7976\n",
       "Regionname           3\n",
       "Propertycount        3\n",
       "dtype: int64"
      ]
     },
     "execution_count": 16,
     "metadata": {},
     "output_type": "execute_result"
    }
   ],
   "source": [
    "#Verifions les valeurs manquantes\n",
    "dataset.isnull().sum()"
   ]
  },
  {
   "cell_type": "code",
   "execution_count": 17,
   "metadata": {},
   "outputs": [
    {
     "data": {
      "text/plain": [
       "index               0\n",
       "Suburb              0\n",
       "Address             0\n",
       "Rooms               0\n",
       "Type                0\n",
       "Price               0\n",
       "Method              0\n",
       "SellerG             0\n",
       "Date                0\n",
       "Distance            0\n",
       "Postcode            1\n",
       "Bathroom         8226\n",
       "Car              8726\n",
       "Landsize            0\n",
       "BuildingArea        0\n",
       "YearBuilt           0\n",
       "CouncilArea         3\n",
       "Lattitude           0\n",
       "Longtitude          0\n",
       "Regionname          3\n",
       "Propertycount       3\n",
       "dtype: int64"
      ]
     },
     "execution_count": 17,
     "metadata": {},
     "output_type": "execute_result"
    }
   ],
   "source": [
    "dataset['Price']= dataset['Price'].fillna(dataset['Price'].median())\n",
    "dataset['Landsize']= dataset['Landsize'].fillna(dataset['Landsize'].median())\n",
    "dataset['Distance'] = dataset['Distance'].fillna(dataset['Distance'].median())\n",
    "dataset['BuildingArea']= dataset['BuildingArea'].fillna(dataset['BuildingArea'].median())\n",
    "dataset['Lattitude']= dataset['Lattitude'].fillna(dataset['Lattitude'].median())\n",
    "dataset['Longtitude']= dataset['Longtitude'].fillna(dataset['Longtitude'].median())\n",
    "dataset['YearBuilt']= dataset['YearBuilt'].fillna(dataset['YearBuilt'].median())\n",
    "dataset.isnull().sum()"
   ]
  },
  {
   "cell_type": "markdown",
   "metadata": {},
   "source": [
    "### Explorons les variables catégorielles"
   ]
  },
  {
   "cell_type": "code",
   "execution_count": 18,
   "metadata": {},
   "outputs": [
    {
     "data": {
      "text/plain": [
       "index            0\n",
       "Suburb           0\n",
       "Address          0\n",
       "Rooms            0\n",
       "Type             0\n",
       "Price            0\n",
       "Method           0\n",
       "SellerG          0\n",
       "Date             0\n",
       "Distance         0\n",
       "Postcode         0\n",
       "Bathroom         0\n",
       "Car              0\n",
       "Landsize         0\n",
       "BuildingArea     0\n",
       "YearBuilt        0\n",
       "CouncilArea      0\n",
       "Lattitude        0\n",
       "Longtitude       0\n",
       "Regionname       0\n",
       "Propertycount    0\n",
       "dtype: int64"
      ]
     },
     "execution_count": 18,
     "metadata": {},
     "output_type": "execute_result"
    }
   ],
   "source": [
    "dataset['Bathroom']= dataset['Bathroom'].fillna(dataset['Bathroom'].mode()[0])\n",
    "dataset['Car']= dataset['Car'].fillna(dataset['Car'].mode()[0])\n",
    "dataset['CouncilArea']= dataset['CouncilArea'].fillna(dataset['CouncilArea'].mode()[0])\n",
    "dataset['Regionname']= dataset['Regionname'].fillna(dataset['Regionname'].mode()[0])\n",
    "dataset['Propertycount']= dataset['Propertycount'].fillna(dataset['Propertycount'].mode()[0])\n",
    "dataset['Postcode']= dataset['Postcode'].fillna(dataset['Postcode'].mode()[0])\n",
    "dataset.isnull().sum()"
   ]
  },
  {
   "cell_type": "markdown",
   "metadata": {},
   "source": [
    "Après avoir supprimé des valeurs manquantes, je peux changer le type de salle de bain et de voiture en entier"
   ]
  },
  {
   "cell_type": "code",
   "execution_count": 19,
   "metadata": {},
   "outputs": [],
   "source": [
    "dataset['Bathroom'] = pd.to_numeric(dataset['Bathroom']).round(0).astype(int)\n",
    "dataset['Car'] = pd.to_numeric(dataset['Car']).round(0).astype(int)\n"
   ]
  },
  {
   "cell_type": "markdown",
   "metadata": {},
   "source": [
    "Affichons maintenant la repartition les maisons les plus vendus selon le nombre de chambre"
   ]
  },
  {
   "cell_type": "code",
   "execution_count": 20,
   "metadata": {},
   "outputs": [
    {
     "data": {
      "text/plain": [
       "<AxesSubplot:ylabel='Rooms'>"
      ]
     },
     "execution_count": 20,
     "metadata": {},
     "output_type": "execute_result"
    },
    {
     "data": {
      "image/png": "[encoded data removed]",
      "text/plain": [
       "<Figure size 720x720 with 1 Axes>"
      ]
     },
     "metadata": {},
     "output_type": "display_data"
    }
   ],
   "source": [
    "f, ax = plt.subplots(figsize=(10,10))\n",
    "dataset.Rooms.value_counts().head().plot(kind ='pie')"
   ]
  },
  {
   "cell_type": "markdown",
   "metadata": {},
   "source": [
    "On constat que les maisons ayant au moins 2 chambres sont les plus vendues"
   ]
  },
  {
   "cell_type": "markdown",
   "metadata": {},
   "source": [
    "affichons maintenant la repartition des maisons selon le nombre de salle de bains"
   ]
  },
  {
   "cell_type": "code",
   "execution_count": 21,
   "metadata": {},
   "outputs": [
    {
     "data": {
      "text/plain": [
       "<AxesSubplot:ylabel='Bathroom'>"
      ]
     },
     "execution_count": 21,
     "metadata": {},
     "output_type": "execute_result"
    },
    {
     "data": {
      "image/png": "[encoded data removed]",
      "text/plain": [
       "<Figure size 720x720 with 1 Axes>"
      ]
     },
     "metadata": {},
     "output_type": "display_data"
    }
   ],
   "source": [
    "f, ax = plt.subplots(figsize=(10,10))\n",
    "dataset.Bathroom.value_counts().head().plot(kind ='pie')"
   ]
  },
  {
   "cell_type": "code",
   "execution_count": 22,
   "metadata": {},
   "outputs": [
    {
     "data": {
      "text/plain": [
       "<AxesSubplot:ylabel='Regionname'>"
      ]
     },
     "execution_count": 22,
     "metadata": {},
     "output_type": "execute_result"
    },
    {
     "data": {
      "image/png": "[encoded data removed]",
      "text/plain": [
       "<Figure size 720x720 with 1 Axes>"
      ]
     },
     "metadata": {},
     "output_type": "display_data"
    }
   ],
   "source": [
    "f, ax = plt.subplots(figsize=(10,10))\n",
    "dataset.Regionname.value_counts().head().plot(kind ='pie')"
   ]
  },
  {
   "cell_type": "markdown",
   "metadata": {},
   "source": [
    "On constate de les maisons dans le southern metropolitain sont celles qui sont le plus vendu"
   ]
  },
  {
   "cell_type": "markdown",
   "metadata": {},
   "source": [
    "Maintenant vérifions avec des boxplots la distribution des valeurs ordinales et catégorielles"
   ]
  },
  {
   "cell_type": "code",
   "execution_count": 23,
   "metadata": {},
   "outputs": [
    {
     "data": {
      "image/png": "[encoded data removed]",
      "text/plain": [
       "<Figure size 432x288 with 1 Axes>"
      ]
     },
     "metadata": {},
     "output_type": "display_data"
    },
    {
     "data": {
      "image/png": "[encoded data removed]",
      "text/plain": [
       "<Figure size 432x288 with 1 Axes>"
      ]
     },
     "metadata": {},
     "output_type": "display_data"
    },
    {
     "data": {
      "image/png": "[encoded data removed]",
      "text/plain": [
       "<Figure size 432x288 with 1 Axes>"
      ]
     },
     "metadata": {},
     "output_type": "display_data"
    }
   ],
   "source": [
    "Cat= ['Bathroom', 'Rooms', 'Car']\n",
    "for i in Cat:\n",
    "    plt.figure()\n",
    "    sns.countplot(x=i, data=dataset)"
   ]
  },
  {
   "cell_type": "markdown",
   "metadata": {},
   "source": [
    "On constate que la plupart des maisons peuvent accueillir 2 voitures, elles ont entre 2 à 4 chambres et 1 ou 2 salles de bain;"
   ]
  },
  {
   "cell_type": "markdown",
   "metadata": {},
   "source": [
    "### Explorons les variables continues"
   ]
  },
  {
   "cell_type": "markdown",
   "metadata": {},
   "source": [
    "Observons la distribution des variables continues en utilisant des histogramme"
   ]
  },
  {
   "cell_type": "code",
   "execution_count": 24,
   "metadata": {},
   "outputs": [
    {
     "data": {
      "image/png": "[encoded data removed]",
      "text/plain": [
       "<Figure size 792x432 with 1 Axes>"
      ]
     },
     "metadata": {},
     "output_type": "display_data"
    },
    {
     "data": {
      "image/png": "[encoded data removed]",
      "text/plain": [
       "<Figure size 792x432 with 1 Axes>"
      ]
     },
     "metadata": {},
     "output_type": "display_data"
    },
    {
     "data": {
      "image/png": "[encoded data removed]",
      "text/plain": [
       "<Figure size 792x432 with 1 Axes>"
      ]
     },
     "metadata": {},
     "output_type": "display_data"
    },
    {
     "data": {
      "image/png": "[encoded data removed]",
      "text/plain": [
       "<Figure size 792x432 with 1 Axes>"
      ]
     },
     "metadata": {},
     "output_type": "display_data"
    }
   ],
   "source": [
    "from scipy import stats\n",
    "Cont= [dataset['Price'], dataset['Distance'], dataset['BuildingArea'], dataset['Propertycount']]\n",
    "for i in Cont:\n",
    "    plt.figure(figsize=(11,6))\n",
    "    sns.distplot(i, fit=stats.norm, kde=False)"
   ]
  },
  {
   "cell_type": "code",
   "execution_count": 25,
   "metadata": {},
   "outputs": [
    {
     "data": {
      "text/plain": [
       "<seaborn.axisgrid.FacetGrid at 0x7febd3668ac8>"
      ]
     },
     "execution_count": 25,
     "metadata": {},
     "output_type": "execute_result"
    },
    {
     "data": {
      "image/png": "[encoded data removed]",
      "text/plain": [
       "<Figure size 360x360 with 1 Axes>"
      ]
     },
     "metadata": {},
     "output_type": "display_data"
    },
    {
     "data": {
      "image/png": "[encoded data removed]",
      "text/plain": [
       "<Figure size 360x360 with 1 Axes>"
      ]
     },
     "metadata": {},
     "output_type": "display_data"
    }
   ],
   "source": [
    "sns.catplot(x='Rooms', y= 'Price',kind='box', data=dataset, height=5)\n",
    "sns.catplot(x='Type', y= 'Price',kind='box', data=dataset, height=5)"
   ]
  },
  {
   "cell_type": "markdown",
   "metadata": {},
   "source": [
    "1)On constat qu'il y a une légère augmentation linéaire du prix pour plus de chambre.Aussi, tous les niveaux des pièces variables ne sont pas très stables, come les 9 et 16 chambres.\n",
    "2)Le type de maison peut être un indicateur important du prix, car il semble que les types h coûtent plus cher et présentent une plus grande variabilité de prix."
   ]
  },
  {
   "cell_type": "markdown",
   "metadata": {},
   "source": [
    "Affichage de la heatmap avec les coefficients de la matrice de corrélation du dataset."
   ]
  },
  {
   "cell_type": "code",
   "execution_count": 26,
   "metadata": {},
   "outputs": [
    {
     "data": {
      "text/plain": [
       "<AxesSubplot:>"
      ]
     },
     "execution_count": 26,
     "metadata": {},
     "output_type": "execute_result"
    },
    {
     "data": {
      "image/png": "[encoded data removed]",
      "text/plain": [
       "<Figure size 1440x1080 with 2 Axes>"
      ]
     },
     "metadata": {},
     "output_type": "display_data"
    }
   ],
   "source": [
    "attributes= ['Price', 'Distance', 'Bathroom', 'Rooms', 'Car', 'Landsize', 'BuildingArea', 'Lattitude', 'Longtitude', 'Propertycount']\n",
    "housing= dataset[attributes]\n",
    "\n",
    "#compute correlation matrix...\n",
    "corr_matrix=housing.corr(method='spearman')\n",
    "plt.figure(figsize=(20,15))\n",
    "sns.heatmap(corr_matrix, annot=True)"
   ]
  },
  {
   "cell_type": "markdown",
   "metadata": {},
   "source": [
    "On concut que Roms est la relation la plus forte (0,43)."
   ]
  },
  {
   "cell_type": "markdown",
   "metadata": {},
   "source": [
    "On peut également réafficher le pairplot du début pour une meilleure visualisation."
   ]
  },
  {
   "cell_type": "code",
   "execution_count": 27,
   "metadata": {},
   "outputs": [
    {
     "data": {
      "text/plain": [
       "<AxesSubplot:xlabel='Distance', ylabel='Price'>"
      ]
     },
     "execution_count": 27,
     "metadata": {},
     "output_type": "execute_result"
    },
    {
     "data": {
      "image/png": "[encoded data removed]",
      "text/plain": [
       "<Figure size 1080x720 with 3 Axes>"
      ]
     },
     "metadata": {},
     "output_type": "display_data"
    }
   ],
   "source": [
    "f, axes = plt.subplots(figsize = (15,10))\n",
    "plt.subplot(221)\n",
    "sns.regplot(data= dataset, x='BuildingArea', y='Price')\n",
    "plt.subplot(223)\n",
    "sns.regplot(data= dataset, x='Rooms', y='Price')\n",
    "plt.subplot(224)\n",
    "sns.regplot(data= dataset, x='Distance', y='Price')"
   ]
  },
  {
   "cell_type": "markdown",
   "metadata": {},
   "source": [
    "Quel est le but du modèle?\n",
    "\n",
    "Le but de notre modèle est de prédire le prix des maisons en fonction du type de maison et particulièrement vrai pour le type h.\n",
    "\n",
    "Nous pouvons remarquer que le rang possède un coefficient négatif avec les ventes mondiales (devrait être positif puisque plus les ventes mondiales sont élevées plus le jeu vidéo est bien classé) mais comme le classement se fait de manière décroissante, c'est donc également inversé."
   ]
  },
  {
   "cell_type": "markdown",
   "metadata": {},
   "source": [
    "### Partie 2 : Model Building"
   ]
  },
  {
   "cell_type": "markdown",
   "metadata": {},
   "source": [
    "### One-hot encoding pour les variables categoriques"
   ]
  },
  {
   "cell_type": "code",
   "execution_count": 28,
   "metadata": {},
   "outputs": [
    {
     "name": "stdout",
     "output_type": "stream",
     "text": [
      "<class 'pandas.core.frame.DataFrame'>\n",
      "RangeIndex: 34780 entries, 0 to 34779\n",
      "Data columns (total 21 columns):\n",
      " #   Column         Non-Null Count  Dtype  \n",
      "---  ------         --------------  -----  \n",
      " 0   index          34780 non-null  int64  \n",
      " 1   Suburb         34780 non-null  object \n",
      " 2   Address        34780 non-null  object \n",
      " 3   Rooms          34780 non-null  int64  \n",
      " 4   Type           34780 non-null  object \n",
      " 5   Price          34780 non-null  int64  \n",
      " 6   Method         34780 non-null  object \n",
      " 7   SellerG        34780 non-null  object \n",
      " 8   Date           34780 non-null  object \n",
      " 9   Distance       34780 non-null  float64\n",
      " 10  Postcode       34780 non-null  float64\n",
      " 11  Bathroom       34780 non-null  int64  \n",
      " 12  Car            34780 non-null  int64  \n",
      " 13  Landsize       34780 non-null  float64\n",
      " 14  BuildingArea   34780 non-null  float64\n",
      " 15  YearBuilt      34780 non-null  float64\n",
      " 16  CouncilArea    34780 non-null  object \n",
      " 17  Lattitude      34780 non-null  float64\n",
      " 18  Longtitude     34780 non-null  float64\n",
      " 19  Regionname     34780 non-null  object \n",
      " 20  Propertycount  34780 non-null  float64\n",
      "dtypes: float64(8), int64(5), object(8)\n",
      "memory usage: 5.6+ MB\n"
     ]
    },
    {
     "data": {
      "text/html": [
       "<div>\n",
       "<style scoped>\n",
       "    .dataframe tbody tr th:only-of-type {\n",
       "        vertical-align: middle;\n",
       "    }\n",
       "\n",
       "    .dataframe tbody tr th {\n",
       "        vertical-align: top;\n",
       "    }\n",
       "\n",
       "    .dataframe thead th {\n",
       "        text-align: right;\n",
       "    }\n",
       "</style>\n",
       "<table border=\"1\" class=\"dataframe\">\n",
       "  <thead>\n",
       "    <tr style=\"text-align: right;\">\n",
       "      <th></th>\n",
       "      <th>index</th>\n",
       "      <th>Suburb</th>\n",
       "      <th>Address</th>\n",
       "      <th>Rooms</th>\n",
       "      <th>Type</th>\n",
       "      <th>Price</th>\n",
       "      <th>Method</th>\n",
       "      <th>SellerG</th>\n",
       "      <th>Date</th>\n",
       "      <th>Distance</th>\n",
       "      <th>...</th>\n",
       "      <th>Bathroom</th>\n",
       "      <th>Car</th>\n",
       "      <th>Landsize</th>\n",
       "      <th>BuildingArea</th>\n",
       "      <th>YearBuilt</th>\n",
       "      <th>CouncilArea</th>\n",
       "      <th>Lattitude</th>\n",
       "      <th>Longtitude</th>\n",
       "      <th>Regionname</th>\n",
       "      <th>Propertycount</th>\n",
       "    </tr>\n",
       "  </thead>\n",
       "  <tbody>\n",
       "    <tr>\n",
       "      <th>0</th>\n",
       "      <td>0</td>\n",
       "      <td>Abbotsford</td>\n",
       "      <td>68 Studley St</td>\n",
       "      <td>1</td>\n",
       "      <td>h</td>\n",
       "      <td>1155</td>\n",
       "      <td>SS</td>\n",
       "      <td>Jellis</td>\n",
       "      <td>3/09/2016</td>\n",
       "      <td>2.5</td>\n",
       "      <td>...</td>\n",
       "      <td>1</td>\n",
       "      <td>1</td>\n",
       "      <td>126.0</td>\n",
       "      <td>136.0</td>\n",
       "      <td>1970.0</td>\n",
       "      <td>Yarra City Council</td>\n",
       "      <td>-37.8014</td>\n",
       "      <td>144.9958</td>\n",
       "      <td>Northern Metropolitan</td>\n",
       "      <td>4019.0</td>\n",
       "    </tr>\n",
       "    <tr>\n",
       "      <th>1</th>\n",
       "      <td>1</td>\n",
       "      <td>Abbotsford</td>\n",
       "      <td>85 Turner St</td>\n",
       "      <td>1</td>\n",
       "      <td>h</td>\n",
       "      <td>1960</td>\n",
       "      <td>S</td>\n",
       "      <td>Biggin</td>\n",
       "      <td>3/12/2016</td>\n",
       "      <td>2.5</td>\n",
       "      <td>...</td>\n",
       "      <td>1</td>\n",
       "      <td>1</td>\n",
       "      <td>202.0</td>\n",
       "      <td>136.0</td>\n",
       "      <td>1970.0</td>\n",
       "      <td>Yarra City Council</td>\n",
       "      <td>-37.7996</td>\n",
       "      <td>144.9984</td>\n",
       "      <td>Northern Metropolitan</td>\n",
       "      <td>4019.0</td>\n",
       "    </tr>\n",
       "    <tr>\n",
       "      <th>2</th>\n",
       "      <td>2</td>\n",
       "      <td>Abbotsford</td>\n",
       "      <td>25 Bloomburg St</td>\n",
       "      <td>1</td>\n",
       "      <td>h</td>\n",
       "      <td>1427</td>\n",
       "      <td>S</td>\n",
       "      <td>Biggin</td>\n",
       "      <td>4/02/2016</td>\n",
       "      <td>2.5</td>\n",
       "      <td>...</td>\n",
       "      <td>1</td>\n",
       "      <td>0</td>\n",
       "      <td>156.0</td>\n",
       "      <td>79.0</td>\n",
       "      <td>1900.0</td>\n",
       "      <td>Yarra City Council</td>\n",
       "      <td>-37.8079</td>\n",
       "      <td>144.9934</td>\n",
       "      <td>Northern Metropolitan</td>\n",
       "      <td>4019.0</td>\n",
       "    </tr>\n",
       "    <tr>\n",
       "      <th>3</th>\n",
       "      <td>3</td>\n",
       "      <td>Abbotsford</td>\n",
       "      <td>18/659 Victoria St</td>\n",
       "      <td>2</td>\n",
       "      <td>u</td>\n",
       "      <td>1155</td>\n",
       "      <td>VB</td>\n",
       "      <td>Rounds</td>\n",
       "      <td>4/02/2016</td>\n",
       "      <td>2.5</td>\n",
       "      <td>...</td>\n",
       "      <td>2</td>\n",
       "      <td>1</td>\n",
       "      <td>0.0</td>\n",
       "      <td>136.0</td>\n",
       "      <td>1970.0</td>\n",
       "      <td>Yarra City Council</td>\n",
       "      <td>-37.8114</td>\n",
       "      <td>145.0116</td>\n",
       "      <td>Northern Metropolitan</td>\n",
       "      <td>4019.0</td>\n",
       "    </tr>\n",
       "    <tr>\n",
       "      <th>4</th>\n",
       "      <td>4</td>\n",
       "      <td>Abbotsford</td>\n",
       "      <td>5 Charles St</td>\n",
       "      <td>2</td>\n",
       "      <td>h</td>\n",
       "      <td>1945</td>\n",
       "      <td>SP</td>\n",
       "      <td>Biggin</td>\n",
       "      <td>4/03/2017</td>\n",
       "      <td>2.5</td>\n",
       "      <td>...</td>\n",
       "      <td>2</td>\n",
       "      <td>0</td>\n",
       "      <td>134.0</td>\n",
       "      <td>150.0</td>\n",
       "      <td>1900.0</td>\n",
       "      <td>Yarra City Council</td>\n",
       "      <td>-37.8093</td>\n",
       "      <td>144.9944</td>\n",
       "      <td>Northern Metropolitan</td>\n",
       "      <td>4019.0</td>\n",
       "    </tr>\n",
       "  </tbody>\n",
       "</table>\n",
       "<p>5 rows × 21 columns</p>\n",
       "</div>"
      ],
      "text/plain": [
       "   index      Suburb             Address  Rooms Type  Price Method SellerG  \\\n",
       "0      0  Abbotsford       68 Studley St      1    h   1155     SS  Jellis   \n",
       "1      1  Abbotsford        85 Turner St      1    h   1960      S  Biggin   \n",
       "2      2  Abbotsford     25 Bloomburg St      1    h   1427      S  Biggin   \n",
       "3      3  Abbotsford  18/659 Victoria St      2    u   1155     VB  Rounds   \n",
       "4      4  Abbotsford        5 Charles St      2    h   1945     SP  Biggin   \n",
       "\n",
       "        Date  Distance  ...  Bathroom  Car  Landsize  BuildingArea  YearBuilt  \\\n",
       "0  3/09/2016       2.5  ...         1    1     126.0         136.0     1970.0   \n",
       "1  3/12/2016       2.5  ...         1    1     202.0         136.0     1970.0   \n",
       "2  4/02/2016       2.5  ...         1    0     156.0          79.0     1900.0   \n",
       "3  4/02/2016       2.5  ...         2    1       0.0         136.0     1970.0   \n",
       "4  4/03/2017       2.5  ...         2    0     134.0         150.0     1900.0   \n",
       "\n",
       "          CouncilArea Lattitude  Longtitude             Regionname  \\\n",
       "0  Yarra City Council  -37.8014    144.9958  Northern Metropolitan   \n",
       "1  Yarra City Council  -37.7996    144.9984  Northern Metropolitan   \n",
       "2  Yarra City Council  -37.8079    144.9934  Northern Metropolitan   \n",
       "3  Yarra City Council  -37.8114    145.0116  Northern Metropolitan   \n",
       "4  Yarra City Council  -37.8093    144.9944  Northern Metropolitan   \n",
       "\n",
       "  Propertycount  \n",
       "0        4019.0  \n",
       "1        4019.0  \n",
       "2        4019.0  \n",
       "3        4019.0  \n",
       "4        4019.0  \n",
       "\n",
       "[5 rows x 21 columns]"
      ]
     },
     "execution_count": 28,
     "metadata": {},
     "output_type": "execute_result"
    }
   ],
   "source": [
    "from sklearn.preprocessing import LabelEncoder\n",
    "\n",
    "encoder_genre = LabelEncoder().fit_transform(dataset['Price'].tolist())\n",
    "dataset['Price'] = encoder_genre\n",
    "\n",
    "encoder_platform = LabelEncoder().fit_transform(dataset['Rooms'].tolist())\n",
    "dataset['Rooms'] = encoder_platform\n",
    "\n",
    "dataset.info()\n",
    "dataset.head()"
   ]
  },
  {
   "cell_type": "markdown",
   "metadata": {},
   "source": [
    "Définissons les variables X et Y et Splittons ces variables en données d'entraînement et de test."
   ]
  },
  {
   "cell_type": "code",
   "execution_count": 29,
   "metadata": {},
   "outputs": [],
   "source": [
    "dataset_cr = dataset.dropna().sort_values(\"Date\")"
   ]
  },
  {
   "cell_type": "code",
   "execution_count": 30,
   "metadata": {},
   "outputs": [],
   "source": [
    "suburb_dummies = pd.get_dummies(dataset_cr[[\"Type\", \"Method\"]])"
   ]
  },
  {
   "cell_type": "code",
   "execution_count": 31,
   "metadata": {},
   "outputs": [],
   "source": [
    "all_Data = dataset_cr.drop([\"Address\",\"Price\",\"Date\", \"SellerG\",\"Suburb\",\"Type\",\"Method\",\"CouncilArea\",\"Regionname\"],axis=1).join(suburb_dummies)"
   ]
  },
  {
   "cell_type": "code",
   "execution_count": 32,
   "metadata": {},
   "outputs": [
    {
     "name": "stdout",
     "output_type": "stream",
     "text": [
      "(34780, 24)\n",
      "(34780,)\n"
     ]
    }
   ],
   "source": [
    "#Définissons les variables X et Y\n",
    "y = dataset_cr['Price']\n",
    "X = all_Data\n",
    "print(X.shape)\n",
    "print(y.shape)"
   ]
  },
  {
   "cell_type": "code",
   "execution_count": 33,
   "metadata": {},
   "outputs": [
    {
     "name": "stdout",
     "output_type": "stream",
     "text": [
      "X_train shape: (24346, 24)\n",
      "y_train shape: (24346,)\n",
      "X_test shape: (10434, 24)\n",
      "y_test shape: (10434,)\n"
     ]
    }
   ],
   "source": [
    "\n",
    "from sklearn.model_selection import train_test_split\n",
    "\n",
    "X_train, X_test, y_train, y_test = train_test_split(X, y, test_size=0.3, random_state=30)\n",
    "\n",
    "print(\"X_train shape: {}\".format(X_train.shape))\n",
    "print(\"y_train shape: {}\".format(y_train.shape))\n",
    "\n",
    "print(\"X_test shape: {}\".format(X_test.shape))\n",
    "print(\"y_test shape: {}\".format(y_test.shape))"
   ]
  },
  {
   "cell_type": "markdown",
   "metadata": {},
   "source": [
    "### Linear Regression"
   ]
  },
  {
   "cell_type": "code",
   "execution_count": 34,
   "metadata": {},
   "outputs": [
    {
     "name": "stdout",
     "output_type": "stream",
     "text": [
      "Coefficients beta_j: \n",
      " [ 8.30005512e-04  1.90051841e+02 -4.10275393e+01  6.35317417e-01\n",
      "  6.78465121e+01  3.52539453e+01  4.12949444e-03  5.52419405e-02\n",
      " -1.91279047e+00 -1.32413173e+03  7.85681764e+02 -5.33854814e-03\n",
      "  2.11266864e+02  5.63759773e+01 -2.67642841e+02  1.99640229e+01\n",
      " -3.89334730e+00  4.42832019e+01  1.93545240e+01 -1.00454430e+02\n",
      " -8.53372665e+01 -8.23972693e+01  5.32936457e+01  1.35186919e+02]\n",
      "Coefficients intercept beta_0: \n",
      " -161173.3794326575\n",
      "taille du vecteur Y_pred :  24346\n",
      "taille du vecteur Y_test_pred :  10434\n",
      "Mean squared error : Train = 190221.013, Test = 188815.326\n",
      "R2 : Train = 0.483, Test = 0.475\n"
     ]
    }
   ],
   "source": [
    "from sklearn.linear_model import LinearRegression\n",
    "from sklearn.metrics import r2_score\n",
    "from sklearn.metrics import mean_squared_error\n",
    "\n",
    "lin_reg  = LinearRegression()\n",
    "lin_reg.fit(X_train, y_train)\n",
    "\n",
    "print('Coefficients beta_j: \\n', lin_reg .coef_)\n",
    "print('Coefficients intercept beta_0: \\n', lin_reg .intercept_)\n",
    "\n",
    "y_pred = lin_reg .predict(X_train)\n",
    "y_test_pred = lin_reg .predict(X_test)\n",
    "print(\"taille du vecteur Y_pred : \", y_pred.size)\n",
    "print(\"taille du vecteur Y_test_pred : \", y_test_pred.size)\n",
    "\n",
    "print(\"Mean squared error : Train = %.3f, Test = %.3f\" % (\n",
    "        mean_squared_error(y_train, y_pred),\n",
    "        mean_squared_error(y_test, y_test_pred)))\n",
    "print(\"R2 : Train = %.3f, Test = %.3f\" % (\n",
    "        r2_score(y_train, y_pred),\n",
    "        r2_score(y_test, y_test_pred)))"
   ]
  },
  {
   "cell_type": "code",
   "execution_count": 56,
   "metadata": {},
   "outputs": [
    {
     "ename": "SyntaxError",
     "evalue": "invalid syntax (<ipython-input-56-fc992e175cb2>, line 16)",
     "output_type": "error",
     "traceback": [
      "\u001b[0;36m  File \u001b[0;32m\"<ipython-input-56-fc992e175cb2>\"\u001b[0;36m, line \u001b[0;32m16\u001b[0m\n\u001b[0;31m    y_train_std = sc_y.fit_transform(y_train[:, np.newaxis]).flatten()\u001b[0m\n\u001b[0m              ^\u001b[0m\n\u001b[0;31mSyntaxError\u001b[0m\u001b[0;31m:\u001b[0m invalid syntax\n"
     ]
    }
   ],
   "source": [
    "from sklearn.metrics import r2_score\n",
    "from sklearn.model_selection import cross_val_score\n",
    "from sklearn.model_selection import train_test_split\n",
    "from sklearn.preprocessing import StandardScaler\n",
    "from sklearn.decomposition import PCA\n",
    "from sklearn.linear_model import LinearRegression\n",
    "from sklearn.pipeline import Pipeline\n",
    "pipe_lr = Pipeline([('scl', StandardScaler()),('pca', PCA(n_components=4)),('slr', LinearRegression())])\n",
    "\n",
    "train_score = []\n",
    "\n",
    "n = 45\n",
    "for i in range(n):\n",
    "    warnings.warn(\n",
    "        X_train, X_test, y_train, y_test = train_test_split( X, y, test_size=0.3, random_state=i)\n",
    "        y_train_std = sc_y.fit_transform(y_train[:, np.newaxis]).flatten()\n",
    "        train_score = np.append(train_score, np.mean(cross_val_score(pipe_lr, X_train, y_train_std, scoring ='r2' , cv = 10)))\n",
    "        train_score = np.append(train_score, r2_score(y_train, y_train_pred))\n",
    "        test_score = np.append(test_score, r2_score(y_test, y_test_pred)))"
   ]
  },
  {
   "cell_type": "code",
   "execution_count": 55,
   "metadata": {},
   "outputs": [
    {
     "ename": "NameError",
     "evalue": "name 'train_score' is not defined",
     "output_type": "error",
     "traceback": [
      "\u001b[0;31m---------------------------------------------------------------------------\u001b[0m",
      "\u001b[0;31mNameError\u001b[0m                                 Traceback (most recent call last)",
      "\u001b[0;32m<ipython-input-55-e9094a4b85ac>\u001b[0m in \u001b[0;36m<module>\u001b[0;34m()\u001b[0m\n\u001b[0;32m----> 1\u001b[0;31m \u001b[0mprint\u001b[0m\u001b[0;34m(\u001b[0m\u001b[0mtrain_score\u001b[0m\u001b[0;34m)\u001b[0m\u001b[0;34m\u001b[0m\u001b[0;34m\u001b[0m\u001b[0m\n\u001b[0m\u001b[1;32m      2\u001b[0m \u001b[0mprint\u001b[0m\u001b[0;34m(\u001b[0m\u001b[0mtest_score\u001b[0m\u001b[0;34m)\u001b[0m\u001b[0;34m\u001b[0m\u001b[0;34m\u001b[0m\u001b[0m\n",
      "\u001b[0;31mNameError\u001b[0m: name 'train_score' is not defined"
     ]
    }
   ],
   "source": [
    "print(train_score)\n",
    "print(test_score)"
   ]
  },
  {
   "cell_type": "code",
   "execution_count": 115,
   "metadata": {},
   "outputs": [
    {
     "name": "stdout",
     "output_type": "stream",
     "text": [
      "Meilleur score en Train : 0.25387380237559765 avec un random_state = 1\n",
      "Meilleur score en Test : 0.2555736612183135 avec un random_state = 0\n",
      "R2 train: 0.208 +/- 0.046\n",
      "R2 test: 0.183 +/- 0.083\n"
     ]
    }
   ],
   "source": [
    "print(\"Meilleur score en Train :\", max(train_score),\"avec un random_state =\", np.argmax(train_score))\n",
    "print(\"Meilleur score en Test :\", max(test_score),\"avec un random_state =\", np.argmax(test_score))\n",
    "\n",
    "print('R2 train: %.3f +/- %.3f' % (np.mean(train_score),np.std(train_score)))\n",
    "print('R2 test: %.3f +/- %.3f' % (np.mean(test_score),np.std(test_score)))"
   ]
  },
  {
   "cell_type": "markdown",
   "metadata": {},
   "source": [
    "### Partie 3 : Features Importance"
   ]
  },
  {
   "cell_type": "code",
   "execution_count": 163,
   "metadata": {},
   "outputs": [
    {
     "name": "stdout",
     "output_type": "stream",
     "text": [
      "[-1.34469471e-02  1.86440599e+02 -4.08482883e+01  6.20619497e-01\n",
      "  6.92161028e+01  3.32476432e+01  3.90520728e-03  5.50569414e-02\n",
      " -1.90384773e+00 -1.29821064e+03  7.66785065e+02 -5.06503278e-03\n",
      "  2.10852434e+02  5.37478186e+01 -2.64600253e+02  2.03605023e+01\n",
      "  3.40928140e-01  4.22416255e+01  1.32620125e+01 -9.88045986e+01\n",
      " -8.68798968e+01 -8.48861126e+01  5.02945046e+01  1.44071035e+02\n",
      " -4.78512895e+01  1.54661659e+02  1.72806937e+02 -1.29164590e+02\n",
      " -9.22453031e+01 -1.06128225e+02 -7.02016455e+01  1.44653741e+02\n",
      " -1.86899982e+02  1.38843503e+02 -1.20156525e+02  1.09276338e+01\n",
      " -1.80292234e+02 -2.13424182e+02  1.56262424e+02 -5.02853313e+00\n",
      " -1.02475422e+02 -1.96415363e+02 -1.44273947e+02  1.12424829e+02\n",
      "  2.48706999e+02  2.86864832e+02  5.11575255e+01 -8.77203907e+01\n",
      " -7.23871021e+01 -1.86554398e+02  2.18777780e+02  1.37601794e+02\n",
      " -9.79006538e+01  3.90493293e+02  2.23725936e+01  1.69328798e+02\n",
      " -2.93953077e+01 -2.07304020e+02  3.14192264e+01 -1.53537432e+02\n",
      " -2.02704542e+02  1.08299036e+02  2.85639954e+02  7.34281902e+01\n",
      " -1.88993174e+02 -5.98544341e+01  2.46557051e+02 -1.04080733e+02\n",
      "  1.29977624e+02  2.32503759e+01  6.31444388e+01 -1.86526731e+02\n",
      " -6.96919486e+01  2.16276598e+02 -1.63361938e+02 -1.57009876e+02\n",
      "  2.01274088e+02  3.47948445e+01  4.48723101e+01  1.17120936e+02\n",
      "  2.90738263e+02  3.17993716e+01 -1.27562930e+02  7.50813366e+01\n",
      " -6.03650237e+01 -1.97110932e+02  2.65054350e+01 -1.25155082e+02\n",
      " -1.07345334e+02 -1.49106788e+02  1.45417803e+02  2.04643773e+02\n",
      "  2.93299445e+01 -1.77632446e+02 -1.93074145e+02  8.82121585e+01\n",
      " -1.98173469e+02 -1.44610957e+01 -5.19346071e+01 -2.12333140e+02\n",
      "  1.02143514e+02  1.90024299e+02]\n"
     ]
    },
    {
     "data": {
      "text/plain": [
       "<BarContainer object of 102 artists>"
      ]
     },
     "execution_count": 163,
     "metadata": {},
     "output_type": "execute_result"
    },
    {
     "data": {
      "image/png": "[encoded data removed]",
      "text/plain": [
       "<Figure size 432x288 with 1 Axes>"
      ]
     },
     "metadata": {},
     "output_type": "display_data"
    }
   ],
   "source": [
    "dataset_feat = ['Rooms']\n",
    "print(lin_reg.coef_)\n",
    "plt.bar(dataset_feat, regr.coef_)"
   ]
  },
  {
   "cell_type": "markdown",
   "metadata": {},
   "source": [
    "### Partie  4 - Réexécution avec les features sélectionnés"
   ]
  },
  {
   "cell_type": "code",
   "execution_count": 158,
   "metadata": {},
   "outputs": [
    {
     "name": "stdout",
     "output_type": "stream",
     "text": [
      "X_train shape: (24346, 102)\n",
      "Y_train shape: (24346,)\n",
      "X_test shape: (10434, 102)\n",
      "Y_test shape: (10434,)\n"
     ]
    }
   ],
   "source": [
    "from sklearn.model_selection import train_test_split\n",
    "from sklearn.linear_model import LinearRegression\n",
    "from sklearn.metrics import r2_score\n",
    "from sklearn.metrics import mean_squared_error\n",
    "\n",
    "\n",
    "X_train, X_test, y_train, y_test = train_test_split(X, y, test_size=0.3, random_state=50)\n",
    "\n",
    "print(\"X_train shape: {}\".format(X_train.shape))\n",
    "print(\"Y_train shape: {}\".format(y_train.shape))\n",
    "\n",
    "print(\"X_test shape: {}\".format(X_test.shape))\n",
    "print(\"Y_test shape: {}\".format(y_test.shape))"
   ]
  },
  {
   "cell_type": "code",
   "execution_count": 156,
   "metadata": {},
   "outputs": [
    {
     "name": "stdout",
     "output_type": "stream",
     "text": [
      "Coefficients beta_j: \n",
      " [-1.27673014e-02  1.87617964e+02 -4.04638348e+01  6.46507693e-01\n",
      "  5.94921269e+01  3.01813192e+01  5.20504930e-03  2.41766678e-01\n",
      " -1.81995889e+00 -1.27470331e+03  7.54450649e+02 -5.11690665e-03\n",
      "  2.08112224e+02  5.57590049e+01 -2.63871229e+02  2.54812499e+00\n",
      "  1.84750623e+01  3.08235771e+01  1.41573803e+01 -1.15735088e+02\n",
      " -9.59047696e+01 -5.13492083e+01  3.22877839e+01  1.64697138e+02\n",
      " -4.54746038e+01  1.30694895e+02  1.23825095e+02 -1.41960032e+02\n",
      " -8.38962261e+01 -1.03722909e+02 -8.95934893e+01  1.42719955e+02\n",
      " -1.45221912e+02  1.26492369e+02 -1.13963721e+02  9.15100273e+00\n",
      " -1.47026487e+02 -2.17345628e+02  1.71872953e+02 -1.73739771e+01\n",
      " -8.95615359e+01 -1.59660705e+02 -1.56725021e+02  1.11373361e+02\n",
      "  2.47156348e+02  2.63538439e+02  5.32819444e+01 -5.74410544e+01\n",
      " -5.37435145e+01 -1.73794226e+02  2.01711673e+02  1.07598996e+02\n",
      " -7.81604534e+01  3.69700432e+02  1.79183345e+01  1.56665048e+02\n",
      "  2.43111480e+01 -1.82449525e+02  4.86102515e+01 -1.16282606e+02\n",
      " -2.02610248e+02  1.15892688e+02  2.83681977e+02  5.46166953e+01\n",
      " -1.56610014e+02 -7.45361524e+01  2.40349688e+02 -1.21407994e+02\n",
      "  1.25582697e+02  8.56984404e+01  6.21028762e+01 -1.93858305e+02\n",
      " -7.99439144e+01 -2.78399491e+02 -1.38859641e+02 -1.04128577e+02\n",
      "  1.87685232e+02  4.99485257e+01  5.49647243e+01  1.08548934e+02\n",
      "  2.54567914e+02  5.45480838e+01 -1.06651225e+02  8.82886628e+01\n",
      " -4.72226035e+01 -1.78758389e+02 -6.51386379e+01 -5.50489677e+01\n",
      " -1.16304116e+02 -1.51257995e+02  1.40631533e+02  2.06229117e+02\n",
      "  4.44753297e+01 -1.46842606e+02 -1.77717410e+02  9.45203954e+01\n",
      " -1.03046014e+02  2.32325470e+00 -2.66541159e+01 -1.57011226e+02\n",
      "  1.15435930e+02  1.78690328e+02]\n",
      "Coefficients intercept beta_0: \n",
      " -154793.92076304692\n",
      "taille du vecteur Y_pred :  24346\n",
      "taille du vecteur Y_test_pred :  10434\n",
      "Mean squared error : Train = 187729.836, Test = 193398.412\n",
      "R2 : Train = 0.486, Test = 0.470\n"
     ]
    }
   ],
   "source": [
    "linear_reg = LinearRegression()\n",
    "linear_reg.fit(X_train, y_train)\n",
    "print('Coefficients beta_j: \\n', linear_reg.coef_)\n",
    "print('Coefficients intercept beta_0: \\n', linear_reg.intercept_)\n",
    "\n",
    "y_pred = linear_reg.predict(X_train)\n",
    "y_test_pred = linear_reg.predict(X_test)\n",
    "print(\"taille du vecteur Y_pred : \", y_pred.size)\n",
    "print(\"taille du vecteur Y_test_pred : \", y_test_pred.size)\n",
    "\n",
    "print(\"Mean squared error : Train = %.3f, Test = %.3f\" % (\n",
    "        mean_squared_error(y_train, y_pred),\n",
    "        mean_squared_error(y_test, y_test_pred)))\n",
    "print(\"R2 : Train = %.3f, Test = %.3f\" % (\n",
    "        r2_score(y_train, y_pred),\n",
    "        r2_score(y_test, y_test_pred)))"
   ]
  },
  {
   "cell_type": "code",
   "execution_count": 157,
   "metadata": {},
   "outputs": [
    {
     "name": "stdout",
     "output_type": "stream",
     "text": [
      "Meilleur score en Train : 0.25387380237559765 avec un random_state = 1\n",
      "Meilleur score en Test : 0.2555736612183135 avec un random_state = 0\n",
      "R2 train: 0.208 +/- 0.046\n",
      "R2 test: 0.183 +/- 0.083\n"
     ]
    }
   ],
   "source": [
    "print(\"Meilleur score en Train :\", max(train_score),\"avec un random_state =\", np.argmax(train_score))\n",
    "print(\"Meilleur score en Test :\", max(test_score),\"avec un random_state =\", np.argmax(test_score))\n",
    "\n",
    "print('R2 train: %.3f +/- %.3f' % (np.mean(train_score),np.std(train_score)))\n",
    "print('R2 test: %.3f +/- %.3f' % (np.mean(test_score),np.std(test_score)))"
   ]
  },
  {
   "cell_type": "markdown",
   "metadata": {},
   "source": [
    "On constat que les performances du test n'augmentent plus, tandis que le train cesse d'augmenter. Cela signifie que les performances du meilleur modèle pourraient encore être améliorées si Random_state était un peu diminué ... du moins avec ce jeu de test!"
   ]
  }
 ],
 "metadata": {
  "kernelspec": {
   "display_name": "Python 3",
   "language": "python",
   "name": "python3"
  },
  "language_info": {
   "codemirror_mode": {
    "name": "ipython",
    "version": 3
   },
   "file_extension": ".py",
   "mimetype": "text/x-python",
   "name": "python",
   "nbconvert_exporter": "python",
   "pygments_lexer": "ipython3",
   "version": "3.6.9"
  }
 },
 "nbformat": 4,
 "nbformat_minor": 2
}
